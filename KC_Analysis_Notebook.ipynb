{
 "cells": [
  {
   "cell_type": "markdown",
   "metadata": {},
   "source": [
    "## Final Project Submission\n",
    "\n",
    "* Student name: Kezia Setokusumo\n",
    "* Student pace: Self-Paced\n",
    "* Scheduled project review date/time: Mar 14, 2023\n",
    "* Instructor name: Mark Barbour\n",
    "* [Blog post](https://medium.com/@khs366/data-analysis-and-the-rise-of-chatgpt-2e806a5a6b26?source=friends_link&sk=7bb549aafca725c14f640f3e58eaf969)"
   ]
  },
  {
   "cell_type": "markdown",
   "metadata": {},
   "source": [
    "### Overview and Problem Statement\n",
    "This project focuses on leveraging data from the [King County House Sales dataset](https://info.kingcounty.gov/assessor/DataDownload/default.aspx) to create a regression model that prices the average home within the region.\n",
    "\n",
    "The scope of this project includes data cleaning, initial exploratory analysis, model improvement with additional or transformed variables, final recommendation, and overall evaluation.\n",
    "\n",
    "The goal is to derive a model that helps the general public determine how a certain property should sell compared to the typical home. The model should act as a guide for property buyers and sellers in the area so they can pinpoint attributes of a home that they should emphasize when negotiating prices."
   ]
  },
  {
   "cell_type": "markdown",
   "metadata": {},
   "source": [
    "### The Data\n",
    "The data folder in the repository contains the file kc_house_data.csv, which is the King County House Sales dataset. The folder also contains a description of the columns in the dataset. Below is a list of the columns' names and a preview of the first few rows in the dataset:\n",
    "* `id` - Unique identifier for a house\n",
    "* `date` - Date house was sold\n",
    "* `price` - Sale price (prediction target)\n",
    "* `bedrooms` - Number of bedrooms\n",
    "* `bathrooms` - Number of bathrooms\n",
    "* `sqft_living` - Square footage of living space in the home\n",
    "* `sqft_lot` - Square footage of the lot\n",
    "* `floors` - Number of floors (levels) in house\n",
    "* `waterfront` - Whether the house is on a waterfront\n",
    "* `greenbelt` - Whether the house is adjacent to a green belt\n",
    "* `nuisance` - Whether the house has traffic noise or other recorded nuisances\n",
    "* `view` - Quality of view from house\n",
    "* `condition` - How good the overall condition of the house is. Related to maintenance of house.\n",
    "* `grade` - Overall grade of the house. Related to the construction and design of the house.\n",
    "* `heat_source` - Heat source for the house\n",
    "* `sewer_system` - Sewer system for the house\n",
    "* `sqft_above` - Square footage of house apart from basement\n",
    "* `sqft_basement` - Square footage of the basement\n",
    "* `sqft_garage` - Square footage of garage space\n",
    "* `sqft_patio` - Square footage of outdoor porch or deck space\n",
    "* `yr_built` - Year when house was built\n",
    "* `yr_renovated` - Year when house was renovated\n",
    "* `address` - The street address\n",
    "* `lat` - Latitude coordinate\n",
    "* `long` - Longitude coordinate"
   ]
  },
  {
   "cell_type": "markdown",
   "metadata": {},
   "source": [
    "The columns we will use for our analysis are: \n",
    "* `sqft_living`\n",
    "* `bathrooms`\n",
    "* `grade`\n",
    "* `waterfront`\n",
    "* `view`\n",
    "* `price`"
   ]
  },
  {
   "cell_type": "markdown",
   "metadata": {},
   "source": [
    "### Methods\n",
    "Analysis of home prices in King County begins with a baseline regression model. Using the correlation function, an initial predictor is selected. In this case, a baseline regression model is run to show the relationship between home prices `price` and living area `sqft_living`. Data cleaning takes place at this stage to exclude homes built before 1980, and centering is performed to make the values of `sqft_living` and `bathrooms` around its mean. After the parameters from the baseline results are evaluated, another numerical predictor is added to create a second model. After two models with only numerical predictors have been run, a third and fourth model containing categorical variables is created to improve the analysis. Throughout the creation of the four models, different variables were tested to determine which ones were statistically significant. The final model builds on the fourth regression (a combination of numerical and categorical predictors) by including interaction terms. The variables in the fourth model are tested for interaction effects, and statistically significant terms are incorporated to construct the fifth and final model."
   ]
  },
  {
   "cell_type": "markdown",
   "metadata": {},
   "source": [
    "### Data Exploration and Cleaning"
   ]
  },
  {
   "cell_type": "code",
   "execution_count": 1,
   "metadata": {},
   "outputs": [],
   "source": [
    "# Import pandas library and housing dataset\n",
    "import pandas as pd\n",
    "data=pd.read_csv('kc_house_data.csv', index_col=0)"
   ]
  },
  {
   "cell_type": "code",
   "execution_count": 2,
   "metadata": {},
   "outputs": [
    {
     "data": {
      "text/html": [
       "<div>\n",
       "<style scoped>\n",
       "    .dataframe tbody tr th:only-of-type {\n",
       "        vertical-align: middle;\n",
       "    }\n",
       "\n",
       "    .dataframe tbody tr th {\n",
       "        vertical-align: top;\n",
       "    }\n",
       "\n",
       "    .dataframe thead th {\n",
       "        text-align: right;\n",
       "    }\n",
       "</style>\n",
       "<table border=\"1\" class=\"dataframe\">\n",
       "  <thead>\n",
       "    <tr style=\"text-align: right;\">\n",
       "      <th></th>\n",
       "      <th>date</th>\n",
       "      <th>price</th>\n",
       "      <th>bedrooms</th>\n",
       "      <th>bathrooms</th>\n",
       "      <th>sqft_living</th>\n",
       "      <th>sqft_lot</th>\n",
       "      <th>floors</th>\n",
       "      <th>waterfront</th>\n",
       "      <th>greenbelt</th>\n",
       "      <th>nuisance</th>\n",
       "      <th>...</th>\n",
       "      <th>sewer_system</th>\n",
       "      <th>sqft_above</th>\n",
       "      <th>sqft_basement</th>\n",
       "      <th>sqft_garage</th>\n",
       "      <th>sqft_patio</th>\n",
       "      <th>yr_built</th>\n",
       "      <th>yr_renovated</th>\n",
       "      <th>address</th>\n",
       "      <th>lat</th>\n",
       "      <th>long</th>\n",
       "    </tr>\n",
       "    <tr>\n",
       "      <th>id</th>\n",
       "      <th></th>\n",
       "      <th></th>\n",
       "      <th></th>\n",
       "      <th></th>\n",
       "      <th></th>\n",
       "      <th></th>\n",
       "      <th></th>\n",
       "      <th></th>\n",
       "      <th></th>\n",
       "      <th></th>\n",
       "      <th></th>\n",
       "      <th></th>\n",
       "      <th></th>\n",
       "      <th></th>\n",
       "      <th></th>\n",
       "      <th></th>\n",
       "      <th></th>\n",
       "      <th></th>\n",
       "      <th></th>\n",
       "      <th></th>\n",
       "      <th></th>\n",
       "    </tr>\n",
       "  </thead>\n",
       "  <tbody>\n",
       "    <tr>\n",
       "      <th>7399300360</th>\n",
       "      <td>5/24/2022</td>\n",
       "      <td>675000.0</td>\n",
       "      <td>4</td>\n",
       "      <td>1.0</td>\n",
       "      <td>1180</td>\n",
       "      <td>7140</td>\n",
       "      <td>1.0</td>\n",
       "      <td>NO</td>\n",
       "      <td>NO</td>\n",
       "      <td>NO</td>\n",
       "      <td>...</td>\n",
       "      <td>PUBLIC</td>\n",
       "      <td>1180</td>\n",
       "      <td>0</td>\n",
       "      <td>0</td>\n",
       "      <td>40</td>\n",
       "      <td>1969</td>\n",
       "      <td>0</td>\n",
       "      <td>2102 Southeast 21st Court, Renton, Washington ...</td>\n",
       "      <td>47.461975</td>\n",
       "      <td>-122.19052</td>\n",
       "    </tr>\n",
       "    <tr>\n",
       "      <th>8910500230</th>\n",
       "      <td>12/13/2021</td>\n",
       "      <td>920000.0</td>\n",
       "      <td>5</td>\n",
       "      <td>2.5</td>\n",
       "      <td>2770</td>\n",
       "      <td>6703</td>\n",
       "      <td>1.0</td>\n",
       "      <td>NO</td>\n",
       "      <td>NO</td>\n",
       "      <td>YES</td>\n",
       "      <td>...</td>\n",
       "      <td>PUBLIC</td>\n",
       "      <td>1570</td>\n",
       "      <td>1570</td>\n",
       "      <td>0</td>\n",
       "      <td>240</td>\n",
       "      <td>1950</td>\n",
       "      <td>0</td>\n",
       "      <td>11231 Greenwood Avenue North, Seattle, Washing...</td>\n",
       "      <td>47.711525</td>\n",
       "      <td>-122.35591</td>\n",
       "    </tr>\n",
       "    <tr>\n",
       "      <th>1180000275</th>\n",
       "      <td>9/29/2021</td>\n",
       "      <td>311000.0</td>\n",
       "      <td>6</td>\n",
       "      <td>2.0</td>\n",
       "      <td>2880</td>\n",
       "      <td>6156</td>\n",
       "      <td>1.0</td>\n",
       "      <td>NO</td>\n",
       "      <td>NO</td>\n",
       "      <td>NO</td>\n",
       "      <td>...</td>\n",
       "      <td>PUBLIC</td>\n",
       "      <td>1580</td>\n",
       "      <td>1580</td>\n",
       "      <td>0</td>\n",
       "      <td>0</td>\n",
       "      <td>1956</td>\n",
       "      <td>0</td>\n",
       "      <td>8504 South 113th Street, Seattle, Washington 9...</td>\n",
       "      <td>47.502045</td>\n",
       "      <td>-122.22520</td>\n",
       "    </tr>\n",
       "    <tr>\n",
       "      <th>1604601802</th>\n",
       "      <td>12/14/2021</td>\n",
       "      <td>775000.0</td>\n",
       "      <td>3</td>\n",
       "      <td>3.0</td>\n",
       "      <td>2160</td>\n",
       "      <td>1400</td>\n",
       "      <td>2.0</td>\n",
       "      <td>NO</td>\n",
       "      <td>NO</td>\n",
       "      <td>NO</td>\n",
       "      <td>...</td>\n",
       "      <td>PUBLIC</td>\n",
       "      <td>1090</td>\n",
       "      <td>1070</td>\n",
       "      <td>200</td>\n",
       "      <td>270</td>\n",
       "      <td>2010</td>\n",
       "      <td>0</td>\n",
       "      <td>4079 Letitia Avenue South, Seattle, Washington...</td>\n",
       "      <td>47.566110</td>\n",
       "      <td>-122.29020</td>\n",
       "    </tr>\n",
       "    <tr>\n",
       "      <th>8562780790</th>\n",
       "      <td>8/24/2021</td>\n",
       "      <td>592500.0</td>\n",
       "      <td>2</td>\n",
       "      <td>2.0</td>\n",
       "      <td>1120</td>\n",
       "      <td>758</td>\n",
       "      <td>2.0</td>\n",
       "      <td>NO</td>\n",
       "      <td>NO</td>\n",
       "      <td>YES</td>\n",
       "      <td>...</td>\n",
       "      <td>PUBLIC</td>\n",
       "      <td>1120</td>\n",
       "      <td>550</td>\n",
       "      <td>550</td>\n",
       "      <td>30</td>\n",
       "      <td>2012</td>\n",
       "      <td>0</td>\n",
       "      <td>2193 Northwest Talus Drive, Issaquah, Washingt...</td>\n",
       "      <td>47.532470</td>\n",
       "      <td>-122.07188</td>\n",
       "    </tr>\n",
       "  </tbody>\n",
       "</table>\n",
       "<p>5 rows × 24 columns</p>\n",
       "</div>"
      ],
      "text/plain": [
       "                  date     price  bedrooms  bathrooms  sqft_living  sqft_lot  \\\n",
       "id                                                                             \n",
       "7399300360   5/24/2022  675000.0         4        1.0         1180      7140   \n",
       "8910500230  12/13/2021  920000.0         5        2.5         2770      6703   \n",
       "1180000275   9/29/2021  311000.0         6        2.0         2880      6156   \n",
       "1604601802  12/14/2021  775000.0         3        3.0         2160      1400   \n",
       "8562780790   8/24/2021  592500.0         2        2.0         1120       758   \n",
       "\n",
       "            floors waterfront greenbelt nuisance  ... sewer_system sqft_above  \\\n",
       "id                                                ...                           \n",
       "7399300360     1.0         NO        NO       NO  ...       PUBLIC       1180   \n",
       "8910500230     1.0         NO        NO      YES  ...       PUBLIC       1570   \n",
       "1180000275     1.0         NO        NO       NO  ...       PUBLIC       1580   \n",
       "1604601802     2.0         NO        NO       NO  ...       PUBLIC       1090   \n",
       "8562780790     2.0         NO        NO      YES  ...       PUBLIC       1120   \n",
       "\n",
       "           sqft_basement sqft_garage sqft_patio  yr_built  yr_renovated  \\\n",
       "id                                                                        \n",
       "7399300360             0           0         40      1969             0   \n",
       "8910500230          1570           0        240      1950             0   \n",
       "1180000275          1580           0          0      1956             0   \n",
       "1604601802          1070         200        270      2010             0   \n",
       "8562780790           550         550         30      2012             0   \n",
       "\n",
       "                                                      address        lat  \\\n",
       "id                                                                         \n",
       "7399300360  2102 Southeast 21st Court, Renton, Washington ...  47.461975   \n",
       "8910500230  11231 Greenwood Avenue North, Seattle, Washing...  47.711525   \n",
       "1180000275  8504 South 113th Street, Seattle, Washington 9...  47.502045   \n",
       "1604601802  4079 Letitia Avenue South, Seattle, Washington...  47.566110   \n",
       "8562780790  2193 Northwest Talus Drive, Issaquah, Washingt...  47.532470   \n",
       "\n",
       "                 long  \n",
       "id                     \n",
       "7399300360 -122.19052  \n",
       "8910500230 -122.35591  \n",
       "1180000275 -122.22520  \n",
       "1604601802 -122.29020  \n",
       "8562780790 -122.07188  \n",
       "\n",
       "[5 rows x 24 columns]"
      ]
     },
     "execution_count": 2,
     "metadata": {},
     "output_type": "execute_result"
    }
   ],
   "source": [
    "# Inspect data\n",
    "data.head()"
   ]
  },
  {
   "cell_type": "code",
   "execution_count": 3,
   "metadata": {},
   "outputs": [
    {
     "data": {
      "text/plain": [
       "Index(['date', 'price', 'bedrooms', 'bathrooms', 'sqft_living', 'sqft_lot',\n",
       "       'floors', 'waterfront', 'greenbelt', 'nuisance', 'view', 'condition',\n",
       "       'grade', 'heat_source', 'sewer_system', 'sqft_above', 'sqft_basement',\n",
       "       'sqft_garage', 'sqft_patio', 'yr_built', 'yr_renovated', 'address',\n",
       "       'lat', 'long'],\n",
       "      dtype='object')"
      ]
     },
     "execution_count": 3,
     "metadata": {},
     "output_type": "execute_result"
    }
   ],
   "source": [
    "# Inspect columns\n",
    "data.columns"
   ]
  },
  {
   "cell_type": "code",
   "execution_count": 4,
   "metadata": {},
   "outputs": [],
   "source": [
    "# Drop rows with null values\n",
    "data=data.dropna()"
   ]
  },
  {
   "cell_type": "markdown",
   "metadata": {},
   "source": [
    "In addition to dropping rows that contain null values, we want to exclude any outdated information. We will do this by inspecting the `yr_built` column, identifying the average year, and dropping rows for properties that were built before then. The process is done below."
   ]
  },
  {
   "cell_type": "code",
   "execution_count": 5,
   "metadata": {},
   "outputs": [
    {
     "data": {
      "text/plain": [
       "count    30111.000000\n",
       "mean      1975.162299\n",
       "std         32.052930\n",
       "min       1900.000000\n",
       "25%       1953.000000\n",
       "50%       1977.000000\n",
       "75%       2003.000000\n",
       "max       2022.000000\n",
       "Name: yr_built, dtype: float64"
      ]
     },
     "execution_count": 5,
     "metadata": {},
     "output_type": "execute_result"
    }
   ],
   "source": [
    "# Inspect \"yr_built\"\n",
    "data['yr_built'].describe() "
   ]
  },
  {
   "cell_type": "markdown",
   "metadata": {},
   "source": [
    "The average year is around 1975, so we will exclude homes before then."
   ]
  },
  {
   "cell_type": "code",
   "execution_count": 6,
   "metadata": {},
   "outputs": [
    {
     "data": {
      "text/html": [
       "<div>\n",
       "<style scoped>\n",
       "    .dataframe tbody tr th:only-of-type {\n",
       "        vertical-align: middle;\n",
       "    }\n",
       "\n",
       "    .dataframe tbody tr th {\n",
       "        vertical-align: top;\n",
       "    }\n",
       "\n",
       "    .dataframe thead th {\n",
       "        text-align: right;\n",
       "    }\n",
       "</style>\n",
       "<table border=\"1\" class=\"dataframe\">\n",
       "  <thead>\n",
       "    <tr style=\"text-align: right;\">\n",
       "      <th></th>\n",
       "      <th>date</th>\n",
       "      <th>price</th>\n",
       "      <th>bedrooms</th>\n",
       "      <th>bathrooms</th>\n",
       "      <th>sqft_living</th>\n",
       "      <th>sqft_lot</th>\n",
       "      <th>floors</th>\n",
       "      <th>waterfront</th>\n",
       "      <th>greenbelt</th>\n",
       "      <th>nuisance</th>\n",
       "      <th>...</th>\n",
       "      <th>sewer_system</th>\n",
       "      <th>sqft_above</th>\n",
       "      <th>sqft_basement</th>\n",
       "      <th>sqft_garage</th>\n",
       "      <th>sqft_patio</th>\n",
       "      <th>yr_built</th>\n",
       "      <th>yr_renovated</th>\n",
       "      <th>address</th>\n",
       "      <th>lat</th>\n",
       "      <th>long</th>\n",
       "    </tr>\n",
       "    <tr>\n",
       "      <th>id</th>\n",
       "      <th></th>\n",
       "      <th></th>\n",
       "      <th></th>\n",
       "      <th></th>\n",
       "      <th></th>\n",
       "      <th></th>\n",
       "      <th></th>\n",
       "      <th></th>\n",
       "      <th></th>\n",
       "      <th></th>\n",
       "      <th></th>\n",
       "      <th></th>\n",
       "      <th></th>\n",
       "      <th></th>\n",
       "      <th></th>\n",
       "      <th></th>\n",
       "      <th></th>\n",
       "      <th></th>\n",
       "      <th></th>\n",
       "      <th></th>\n",
       "      <th></th>\n",
       "    </tr>\n",
       "  </thead>\n",
       "  <tbody>\n",
       "    <tr>\n",
       "      <th>1604601802</th>\n",
       "      <td>12/14/2021</td>\n",
       "      <td>775000.0</td>\n",
       "      <td>3</td>\n",
       "      <td>3.0</td>\n",
       "      <td>2160</td>\n",
       "      <td>1400</td>\n",
       "      <td>2.0</td>\n",
       "      <td>NO</td>\n",
       "      <td>NO</td>\n",
       "      <td>NO</td>\n",
       "      <td>...</td>\n",
       "      <td>PUBLIC</td>\n",
       "      <td>1090</td>\n",
       "      <td>1070</td>\n",
       "      <td>200</td>\n",
       "      <td>270</td>\n",
       "      <td>2010</td>\n",
       "      <td>0</td>\n",
       "      <td>4079 Letitia Avenue South, Seattle, Washington...</td>\n",
       "      <td>47.566110</td>\n",
       "      <td>-122.290200</td>\n",
       "    </tr>\n",
       "    <tr>\n",
       "      <th>8562780790</th>\n",
       "      <td>8/24/2021</td>\n",
       "      <td>592500.0</td>\n",
       "      <td>2</td>\n",
       "      <td>2.0</td>\n",
       "      <td>1120</td>\n",
       "      <td>758</td>\n",
       "      <td>2.0</td>\n",
       "      <td>NO</td>\n",
       "      <td>NO</td>\n",
       "      <td>YES</td>\n",
       "      <td>...</td>\n",
       "      <td>PUBLIC</td>\n",
       "      <td>1120</td>\n",
       "      <td>550</td>\n",
       "      <td>550</td>\n",
       "      <td>30</td>\n",
       "      <td>2012</td>\n",
       "      <td>0</td>\n",
       "      <td>2193 Northwest Talus Drive, Issaquah, Washingt...</td>\n",
       "      <td>47.532470</td>\n",
       "      <td>-122.071880</td>\n",
       "    </tr>\n",
       "    <tr>\n",
       "      <th>7137850210</th>\n",
       "      <td>4/28/2022</td>\n",
       "      <td>820000.0</td>\n",
       "      <td>3</td>\n",
       "      <td>2.5</td>\n",
       "      <td>2214</td>\n",
       "      <td>3506</td>\n",
       "      <td>2.0</td>\n",
       "      <td>NO</td>\n",
       "      <td>NO</td>\n",
       "      <td>NO</td>\n",
       "      <td>...</td>\n",
       "      <td>PUBLIC</td>\n",
       "      <td>2214</td>\n",
       "      <td>0</td>\n",
       "      <td>440</td>\n",
       "      <td>206</td>\n",
       "      <td>2019</td>\n",
       "      <td>0</td>\n",
       "      <td>24913 122nd Place Southeast, Kent, Washington ...</td>\n",
       "      <td>47.378355</td>\n",
       "      <td>-122.178625</td>\n",
       "    </tr>\n",
       "    <tr>\n",
       "      <th>2944500680</th>\n",
       "      <td>3/17/2022</td>\n",
       "      <td>780000.0</td>\n",
       "      <td>4</td>\n",
       "      <td>2.5</td>\n",
       "      <td>2340</td>\n",
       "      <td>8125</td>\n",
       "      <td>2.0</td>\n",
       "      <td>NO</td>\n",
       "      <td>NO</td>\n",
       "      <td>NO</td>\n",
       "      <td>...</td>\n",
       "      <td>PUBLIC</td>\n",
       "      <td>2340</td>\n",
       "      <td>0</td>\n",
       "      <td>440</td>\n",
       "      <td>70</td>\n",
       "      <td>1989</td>\n",
       "      <td>0</td>\n",
       "      <td>2721 Southwest 343rd Place, Federal Way, Washi...</td>\n",
       "      <td>47.293770</td>\n",
       "      <td>-122.369320</td>\n",
       "    </tr>\n",
       "    <tr>\n",
       "      <th>2619950340</th>\n",
       "      <td>6/21/2021</td>\n",
       "      <td>975000.0</td>\n",
       "      <td>4</td>\n",
       "      <td>2.5</td>\n",
       "      <td>2980</td>\n",
       "      <td>5859</td>\n",
       "      <td>2.0</td>\n",
       "      <td>NO</td>\n",
       "      <td>NO</td>\n",
       "      <td>NO</td>\n",
       "      <td>...</td>\n",
       "      <td>PUBLIC</td>\n",
       "      <td>2980</td>\n",
       "      <td>0</td>\n",
       "      <td>540</td>\n",
       "      <td>170</td>\n",
       "      <td>2011</td>\n",
       "      <td>0</td>\n",
       "      <td>27950 Northeast 147th Circle, Duvall, Washingt...</td>\n",
       "      <td>47.733170</td>\n",
       "      <td>-121.965305</td>\n",
       "    </tr>\n",
       "    <tr>\n",
       "      <th>...</th>\n",
       "      <td>...</td>\n",
       "      <td>...</td>\n",
       "      <td>...</td>\n",
       "      <td>...</td>\n",
       "      <td>...</td>\n",
       "      <td>...</td>\n",
       "      <td>...</td>\n",
       "      <td>...</td>\n",
       "      <td>...</td>\n",
       "      <td>...</td>\n",
       "      <td>...</td>\n",
       "      <td>...</td>\n",
       "      <td>...</td>\n",
       "      <td>...</td>\n",
       "      <td>...</td>\n",
       "      <td>...</td>\n",
       "      <td>...</td>\n",
       "      <td>...</td>\n",
       "      <td>...</td>\n",
       "      <td>...</td>\n",
       "      <td>...</td>\n",
       "    </tr>\n",
       "    <tr>\n",
       "      <th>6142050730</th>\n",
       "      <td>6/3/2022</td>\n",
       "      <td>1325000.0</td>\n",
       "      <td>5</td>\n",
       "      <td>3.5</td>\n",
       "      <td>3100</td>\n",
       "      <td>6428</td>\n",
       "      <td>2.0</td>\n",
       "      <td>NO</td>\n",
       "      <td>NO</td>\n",
       "      <td>NO</td>\n",
       "      <td>...</td>\n",
       "      <td>PUBLIC</td>\n",
       "      <td>3100</td>\n",
       "      <td>0</td>\n",
       "      <td>710</td>\n",
       "      <td>110</td>\n",
       "      <td>2018</td>\n",
       "      <td>0</td>\n",
       "      <td>28910 Northeast 156th Street, Duvall, Washingt...</td>\n",
       "      <td>47.740145</td>\n",
       "      <td>-121.952390</td>\n",
       "    </tr>\n",
       "    <tr>\n",
       "      <th>9376300851</th>\n",
       "      <td>10/7/2021</td>\n",
       "      <td>719000.0</td>\n",
       "      <td>3</td>\n",
       "      <td>2.5</td>\n",
       "      <td>1270</td>\n",
       "      <td>1141</td>\n",
       "      <td>2.0</td>\n",
       "      <td>NO</td>\n",
       "      <td>NO</td>\n",
       "      <td>NO</td>\n",
       "      <td>...</td>\n",
       "      <td>PUBLIC</td>\n",
       "      <td>1050</td>\n",
       "      <td>420</td>\n",
       "      <td>200</td>\n",
       "      <td>60</td>\n",
       "      <td>2007</td>\n",
       "      <td>0</td>\n",
       "      <td>8359 11th Avenue Northwest, Seattle, Washingto...</td>\n",
       "      <td>47.690440</td>\n",
       "      <td>-122.370620</td>\n",
       "    </tr>\n",
       "    <tr>\n",
       "      <th>194000695</th>\n",
       "      <td>6/16/2021</td>\n",
       "      <td>1313000.0</td>\n",
       "      <td>3</td>\n",
       "      <td>2.0</td>\n",
       "      <td>2020</td>\n",
       "      <td>5800</td>\n",
       "      <td>2.0</td>\n",
       "      <td>NO</td>\n",
       "      <td>NO</td>\n",
       "      <td>NO</td>\n",
       "      <td>...</td>\n",
       "      <td>PUBLIC</td>\n",
       "      <td>2020</td>\n",
       "      <td>0</td>\n",
       "      <td>0</td>\n",
       "      <td>520</td>\n",
       "      <td>2011</td>\n",
       "      <td>0</td>\n",
       "      <td>4131 44th Avenue Southwest, Seattle, Washingto...</td>\n",
       "      <td>47.565610</td>\n",
       "      <td>-122.388510</td>\n",
       "    </tr>\n",
       "    <tr>\n",
       "      <th>7960100080</th>\n",
       "      <td>5/27/2022</td>\n",
       "      <td>800000.0</td>\n",
       "      <td>3</td>\n",
       "      <td>2.0</td>\n",
       "      <td>1620</td>\n",
       "      <td>3600</td>\n",
       "      <td>1.0</td>\n",
       "      <td>NO</td>\n",
       "      <td>NO</td>\n",
       "      <td>YES</td>\n",
       "      <td>...</td>\n",
       "      <td>PUBLIC</td>\n",
       "      <td>940</td>\n",
       "      <td>920</td>\n",
       "      <td>240</td>\n",
       "      <td>110</td>\n",
       "      <td>1995</td>\n",
       "      <td>0</td>\n",
       "      <td>910 Martin Luther King Jr Way, Seattle, Washin...</td>\n",
       "      <td>47.610395</td>\n",
       "      <td>-122.295850</td>\n",
       "    </tr>\n",
       "    <tr>\n",
       "      <th>2781280080</th>\n",
       "      <td>2/24/2022</td>\n",
       "      <td>775000.0</td>\n",
       "      <td>3</td>\n",
       "      <td>2.5</td>\n",
       "      <td>2570</td>\n",
       "      <td>2889</td>\n",
       "      <td>2.0</td>\n",
       "      <td>NO</td>\n",
       "      <td>NO</td>\n",
       "      <td>NO</td>\n",
       "      <td>...</td>\n",
       "      <td>PUBLIC</td>\n",
       "      <td>1830</td>\n",
       "      <td>740</td>\n",
       "      <td>480</td>\n",
       "      <td>100</td>\n",
       "      <td>2006</td>\n",
       "      <td>0</td>\n",
       "      <td>17127 114th Avenue Southeast, Renton, Washingt...</td>\n",
       "      <td>47.449490</td>\n",
       "      <td>-122.189080</td>\n",
       "    </tr>\n",
       "  </tbody>\n",
       "</table>\n",
       "<p>16037 rows × 24 columns</p>\n",
       "</div>"
      ],
      "text/plain": [
       "                  date      price  bedrooms  bathrooms  sqft_living  sqft_lot  \\\n",
       "id                                                                              \n",
       "1604601802  12/14/2021   775000.0         3        3.0         2160      1400   \n",
       "8562780790   8/24/2021   592500.0         2        2.0         1120       758   \n",
       "7137850210   4/28/2022   820000.0         3        2.5         2214      3506   \n",
       "2944500680   3/17/2022   780000.0         4        2.5         2340      8125   \n",
       "2619950340   6/21/2021   975000.0         4        2.5         2980      5859   \n",
       "...                ...        ...       ...        ...          ...       ...   \n",
       "6142050730    6/3/2022  1325000.0         5        3.5         3100      6428   \n",
       "9376300851   10/7/2021   719000.0         3        2.5         1270      1141   \n",
       "194000695    6/16/2021  1313000.0         3        2.0         2020      5800   \n",
       "7960100080   5/27/2022   800000.0         3        2.0         1620      3600   \n",
       "2781280080   2/24/2022   775000.0         3        2.5         2570      2889   \n",
       "\n",
       "            floors waterfront greenbelt nuisance  ... sewer_system sqft_above  \\\n",
       "id                                                ...                           \n",
       "1604601802     2.0         NO        NO       NO  ...       PUBLIC       1090   \n",
       "8562780790     2.0         NO        NO      YES  ...       PUBLIC       1120   \n",
       "7137850210     2.0         NO        NO       NO  ...       PUBLIC       2214   \n",
       "2944500680     2.0         NO        NO       NO  ...       PUBLIC       2340   \n",
       "2619950340     2.0         NO        NO       NO  ...       PUBLIC       2980   \n",
       "...            ...        ...       ...      ...  ...          ...        ...   \n",
       "6142050730     2.0         NO        NO       NO  ...       PUBLIC       3100   \n",
       "9376300851     2.0         NO        NO       NO  ...       PUBLIC       1050   \n",
       "194000695      2.0         NO        NO       NO  ...       PUBLIC       2020   \n",
       "7960100080     1.0         NO        NO      YES  ...       PUBLIC        940   \n",
       "2781280080     2.0         NO        NO       NO  ...       PUBLIC       1830   \n",
       "\n",
       "           sqft_basement sqft_garage sqft_patio  yr_built  yr_renovated  \\\n",
       "id                                                                        \n",
       "1604601802          1070         200        270      2010             0   \n",
       "8562780790           550         550         30      2012             0   \n",
       "7137850210             0         440        206      2019             0   \n",
       "2944500680             0         440         70      1989             0   \n",
       "2619950340             0         540        170      2011             0   \n",
       "...                  ...         ...        ...       ...           ...   \n",
       "6142050730             0         710        110      2018             0   \n",
       "9376300851           420         200         60      2007             0   \n",
       "194000695              0           0        520      2011             0   \n",
       "7960100080           920         240        110      1995             0   \n",
       "2781280080           740         480        100      2006             0   \n",
       "\n",
       "                                                      address        lat  \\\n",
       "id                                                                         \n",
       "1604601802  4079 Letitia Avenue South, Seattle, Washington...  47.566110   \n",
       "8562780790  2193 Northwest Talus Drive, Issaquah, Washingt...  47.532470   \n",
       "7137850210  24913 122nd Place Southeast, Kent, Washington ...  47.378355   \n",
       "2944500680  2721 Southwest 343rd Place, Federal Way, Washi...  47.293770   \n",
       "2619950340  27950 Northeast 147th Circle, Duvall, Washingt...  47.733170   \n",
       "...                                                       ...        ...   \n",
       "6142050730  28910 Northeast 156th Street, Duvall, Washingt...  47.740145   \n",
       "9376300851  8359 11th Avenue Northwest, Seattle, Washingto...  47.690440   \n",
       "194000695   4131 44th Avenue Southwest, Seattle, Washingto...  47.565610   \n",
       "7960100080  910 Martin Luther King Jr Way, Seattle, Washin...  47.610395   \n",
       "2781280080  17127 114th Avenue Southeast, Renton, Washingt...  47.449490   \n",
       "\n",
       "                  long  \n",
       "id                      \n",
       "1604601802 -122.290200  \n",
       "8562780790 -122.071880  \n",
       "7137850210 -122.178625  \n",
       "2944500680 -122.369320  \n",
       "2619950340 -121.965305  \n",
       "...                ...  \n",
       "6142050730 -121.952390  \n",
       "9376300851 -122.370620  \n",
       "194000695  -122.388510  \n",
       "7960100080 -122.295850  \n",
       "2781280080 -122.189080  \n",
       "\n",
       "[16037 rows x 24 columns]"
      ]
     },
     "execution_count": 6,
     "metadata": {},
     "output_type": "execute_result"
    }
   ],
   "source": [
    "# Exclude homes that were built before 1975 to make the information more relevant\n",
    "data=data[data['yr_built']>=1975]\n",
    "data"
   ]
  },
  {
   "cell_type": "markdown",
   "metadata": {},
   "source": [
    "### Identify the Initial Predictor\n",
    "Now that we've cleaned some of the data by dropping several rows, we will look for an initial predictor to use for the baseline model. We will do this by looking at each variable's relationship with price and creating a correlation heatmap. The outputs are displayed below."
   ]
  },
  {
   "cell_type": "code",
   "execution_count": 7,
   "metadata": {},
   "outputs": [
    {
     "data": {
      "text/plain": [
       "array([[<AxesSubplot:title={'center':'price'}>,\n",
       "        <AxesSubplot:title={'center':'bedrooms'}>,\n",
       "        <AxesSubplot:title={'center':'bathrooms'}>,\n",
       "        <AxesSubplot:title={'center':'sqft_living'}>],\n",
       "       [<AxesSubplot:title={'center':'sqft_lot'}>,\n",
       "        <AxesSubplot:title={'center':'floors'}>,\n",
       "        <AxesSubplot:title={'center':'sqft_above'}>,\n",
       "        <AxesSubplot:title={'center':'sqft_basement'}>],\n",
       "       [<AxesSubplot:title={'center':'sqft_garage'}>,\n",
       "        <AxesSubplot:title={'center':'sqft_patio'}>,\n",
       "        <AxesSubplot:title={'center':'yr_built'}>,\n",
       "        <AxesSubplot:title={'center':'yr_renovated'}>],\n",
       "       [<AxesSubplot:title={'center':'lat'}>,\n",
       "        <AxesSubplot:title={'center':'long'}>, <AxesSubplot:>,\n",
       "        <AxesSubplot:>]], dtype=object)"
      ]
     },
     "execution_count": 7,
     "metadata": {},
     "output_type": "execute_result"
    },
    {
     "data": {
      "image/png": "[encoded data removed]",
      "text/plain": [
       "<Figure size 1080x1080 with 16 Axes>"
      ]
     },
     "metadata": {
      "needs_background": "light"
     },
     "output_type": "display_data"
    }
   ],
   "source": [
    "data.hist(figsize=(15,15))"
   ]
  },
  {
   "cell_type": "code",
   "execution_count": 8,
   "metadata": {
    "scrolled": false
   },
   "outputs": [
    {
     "data": {
      "text/plain": [
       "Text(0.5, 1.0, 'Correlation Heatmap')"
      ]
     },
     "execution_count": 8,
     "metadata": {},
     "output_type": "execute_result"
    },
    {
     "data": {
      "image/png": "[encoded data removed]",
      "text/plain": [
       "<Figure size 1080x360 with 2 Axes>"
      ]
     },
     "metadata": {
      "needs_background": "light"
     },
     "output_type": "display_data"
    }
   ],
   "source": [
    "# Look at correlations and identify a highly correlated predictor to create the baseline model\n",
    "import seaborn as sns\n",
    "import matplotlib.pyplot as plt\n",
    "plt.figure(figsize=(15,5))\n",
    "heatmap=sns.heatmap(data.corr(), annot=True, cmap='BrBG')\n",
    "heatmap.set_title('Correlation Heatmap', pad=12)"
   ]
  },
  {
   "cell_type": "markdown",
   "metadata": {},
   "source": [
    "### Findings\n",
    "`sqft_living` is the most correlated variable with `price`"
   ]
  },
  {
   "cell_type": "markdown",
   "metadata": {},
   "source": [
    "### Baseline Model\n",
    "Now that we've selected the first variable `sqft_living`, we will center this data around its average and leverage statsmodels to create the first model. Centering the data will make the results more interpretable later."
   ]
  },
  {
   "cell_type": "code",
   "execution_count": 9,
   "metadata": {},
   "outputs": [
    {
     "name": "stdout",
     "output_type": "stream",
     "text": [
      "                            OLS Regression Results                            \n",
      "==============================================================================\n",
      "Dep. Variable:                  price   R-squared:                       0.408\n",
      "Model:                            OLS   Adj. R-squared:                  0.408\n",
      "Method:                 Least Squares   F-statistic:                 1.105e+04\n",
      "Date:                Sat, 18 Mar 2023   Prob (F-statistic):               0.00\n",
      "Time:                        00:10:33   Log-Likelihood:            -2.3985e+05\n",
      "No. Observations:               16037   AIC:                         4.797e+05\n",
      "Df Residuals:                   16035   BIC:                         4.797e+05\n",
      "Df Model:                           1                                         \n",
      "Covariance Type:            nonrobust                                         \n",
      "===============================================================================\n",
      "                  coef    std err          t      P>|t|      [0.025      0.975]\n",
      "-------------------------------------------------------------------------------\n",
      "const        1.198e+06   5976.994    200.462      0.000    1.19e+06    1.21e+06\n",
      "sqft_living   609.1630      5.794    105.135      0.000     597.806     620.520\n",
      "==============================================================================\n",
      "Omnibus:                    24361.955   Durbin-Watson:                   1.815\n",
      "Prob(Omnibus):                  0.000   Jarque-Bera (JB):         36707842.913\n",
      "Skew:                           9.005   Prob(JB):                         0.00\n",
      "Kurtosis:                     236.689   Cond. No.                     1.03e+03\n",
      "==============================================================================\n",
      "\n",
      "Notes:\n",
      "[1] Standard Errors assume that the covariance matrix of the errors is correctly specified.\n",
      "[2] The condition number is large, 1.03e+03. This might indicate that there are\n",
      "strong multicollinearity or other numerical problems.\n"
     ]
    }
   ],
   "source": [
    "# Import statsmodels for regression analysis\n",
    "import statsmodels.api as sm\n",
    "# Create a baseline model with 'price' as the dependent variable and 'sqft_living' as independent variable\n",
    "# Make the data more interpretable by centering and subtracting the mean from 'sqft_living'\n",
    "data['sqft_living']=data['sqft_living']-data['sqft_living'].mean()\n",
    "y=data['price']\n",
    "X=data[['sqft_living']]\n",
    "baseline=sm.OLS(y, sm.add_constant(X))\n",
    "baseline_results=baseline.fit()\n",
    "# Display baseline model's summary statistics\n",
    "print(baseline_results.summary())"
   ]
  },
  {
   "cell_type": "markdown",
   "metadata": {},
   "source": [
    "### Baseline Model Interpretation\n",
    "R-squared is 0.408, meaning that 40.8% of the variation is explained by the baseline model. The p-values for the y-intercept, sqft_living, and overall model are statistically significant. The coefficient for `sqft_living` indicates that every unit increase of living area SF results in a $609 increase in the price of the average-sized home."
   ]
  },
  {
   "cell_type": "markdown",
   "metadata": {},
   "source": [
    "### Baseline Model Visualization\n",
    "Below we create a scatterplot and its corresponding regression line to better illustrate the relationship between `sqft_living` and `price`. Note that the negative x-axis is because we have centered the data."
   ]
  },
  {
   "cell_type": "code",
   "execution_count": 10,
   "metadata": {
    "scrolled": false
   },
   "outputs": [
    {
     "data": {
      "text/plain": [
       "Text(0.5, 1.0, 'Baseline Model Visualization')"
      ]
     },
     "execution_count": 10,
     "metadata": {},
     "output_type": "execute_result"
    },
    {
     "data": {
      "image/png": "[encoded data removed]",
      "text/plain": [
       "<Figure size 720x360 with 1 Axes>"
      ]
     },
     "metadata": {
      "needs_background": "light"
     },
     "output_type": "display_data"
    }
   ],
   "source": [
    "# Visualize the baseline model\n",
    "import matplotlib.pyplot as plt\n",
    "fig, ax = plt.subplots(figsize=(10,5))\n",
    "ax.scatter(X, y)\n",
    "sns.regplot(x='sqft_living', y='price', data=data)\n",
    "plt.gcf().axes[0].yaxis.get_major_formatter().set_scientific(False)\n",
    "ax.set_xlabel(\"Living Area SF\")\n",
    "ax.set_ylabel(\"Home Price\")\n",
    "ax.set_title(\"Baseline Model Visualization\")"
   ]
  },
  {
   "cell_type": "markdown",
   "metadata": {},
   "source": [
    "### Baseline Model Error Metric\n",
    "We will calculate the mean absolute error for our simple linear regression to determine how wrong our model is on average when projecting prices."
   ]
  },
  {
   "cell_type": "code",
   "execution_count": 11,
   "metadata": {},
   "outputs": [
    {
     "name": "stdout",
     "output_type": "stream",
     "text": [
      "The mean absolute error for the initial model is: 423369.63912455307\n"
     ]
    }
   ],
   "source": [
    "# Compute mean absolute error for baseline model\n",
    "from sklearn.metrics import mean_absolute_error, mean_squared_error\n",
    "y_pred_baseline=baseline_results.predict(sm.add_constant(data['sqft_living']))\n",
    "mae_base=mean_absolute_error(data['price'], y_pred_baseline)\n",
    "print(\"The mean absolute error for the initial model is: \"+ str(mae_base))"
   ]
  },
  {
   "cell_type": "markdown",
   "metadata": {},
   "source": [
    "Our mean absolute error comes out to ~$423K. The MAE characterizes the difference between the model's prediction and the target value. For home prices, this value is quite large. We will aim to reduce the MAE over the next few iterations of the model and arrive at a lower MAE value for the final run."
   ]
  },
  {
   "cell_type": "markdown",
   "metadata": {},
   "source": [
    "### Second Model (Multiple Regression Model)\n",
    "We will expand the simple linear regression baseline model to a multiple linear regression model by including `bathrooms`."
   ]
  },
  {
   "cell_type": "code",
   "execution_count": 12,
   "metadata": {},
   "outputs": [
    {
     "data": {
      "text/html": [
       "<div>\n",
       "<style scoped>\n",
       "    .dataframe tbody tr th:only-of-type {\n",
       "        vertical-align: middle;\n",
       "    }\n",
       "\n",
       "    .dataframe tbody tr th {\n",
       "        vertical-align: top;\n",
       "    }\n",
       "\n",
       "    .dataframe thead th {\n",
       "        text-align: right;\n",
       "    }\n",
       "</style>\n",
       "<table border=\"1\" class=\"dataframe\">\n",
       "  <thead>\n",
       "    <tr style=\"text-align: right;\">\n",
       "      <th></th>\n",
       "      <th>sqft_living</th>\n",
       "      <th>bathrooms</th>\n",
       "    </tr>\n",
       "    <tr>\n",
       "      <th>id</th>\n",
       "      <th></th>\n",
       "      <th></th>\n",
       "    </tr>\n",
       "  </thead>\n",
       "  <tbody>\n",
       "    <tr>\n",
       "      <th>1604601802</th>\n",
       "      <td>-223.129077</td>\n",
       "      <td>0.5</td>\n",
       "    </tr>\n",
       "    <tr>\n",
       "      <th>8562780790</th>\n",
       "      <td>-1263.129077</td>\n",
       "      <td>-0.5</td>\n",
       "    </tr>\n",
       "    <tr>\n",
       "      <th>7137850210</th>\n",
       "      <td>-169.129077</td>\n",
       "      <td>0.0</td>\n",
       "    </tr>\n",
       "    <tr>\n",
       "      <th>2944500680</th>\n",
       "      <td>-43.129077</td>\n",
       "      <td>0.0</td>\n",
       "    </tr>\n",
       "    <tr>\n",
       "      <th>2619950340</th>\n",
       "      <td>596.870923</td>\n",
       "      <td>0.0</td>\n",
       "    </tr>\n",
       "    <tr>\n",
       "      <th>...</th>\n",
       "      <td>...</td>\n",
       "      <td>...</td>\n",
       "    </tr>\n",
       "    <tr>\n",
       "      <th>6142050730</th>\n",
       "      <td>716.870923</td>\n",
       "      <td>1.0</td>\n",
       "    </tr>\n",
       "    <tr>\n",
       "      <th>9376300851</th>\n",
       "      <td>-1113.129077</td>\n",
       "      <td>0.0</td>\n",
       "    </tr>\n",
       "    <tr>\n",
       "      <th>194000695</th>\n",
       "      <td>-363.129077</td>\n",
       "      <td>-0.5</td>\n",
       "    </tr>\n",
       "    <tr>\n",
       "      <th>7960100080</th>\n",
       "      <td>-763.129077</td>\n",
       "      <td>-0.5</td>\n",
       "    </tr>\n",
       "    <tr>\n",
       "      <th>2781280080</th>\n",
       "      <td>186.870923</td>\n",
       "      <td>0.0</td>\n",
       "    </tr>\n",
       "  </tbody>\n",
       "</table>\n",
       "<p>16037 rows × 2 columns</p>\n",
       "</div>"
      ],
      "text/plain": [
       "            sqft_living  bathrooms\n",
       "id                                \n",
       "1604601802  -223.129077        0.5\n",
       "8562780790 -1263.129077       -0.5\n",
       "7137850210  -169.129077        0.0\n",
       "2944500680   -43.129077        0.0\n",
       "2619950340   596.870923        0.0\n",
       "...                 ...        ...\n",
       "6142050730   716.870923        1.0\n",
       "9376300851 -1113.129077        0.0\n",
       "194000695   -363.129077       -0.5\n",
       "7960100080  -763.129077       -0.5\n",
       "2781280080   186.870923        0.0\n",
       "\n",
       "[16037 rows x 2 columns]"
      ]
     },
     "execution_count": 12,
     "metadata": {},
     "output_type": "execute_result"
    }
   ],
   "source": [
    "# Expand the simple linear regression baseline model to a multiple linear regression model\n",
    "# Add the discrete numerical predictor \"bathrooms\" and center it\n",
    "data['bathrooms']=data['bathrooms']-data['bathrooms'].median()\n",
    "X_second = data[['sqft_living', 'bathrooms']]\n",
    "X_second"
   ]
  },
  {
   "cell_type": "code",
   "execution_count": 13,
   "metadata": {},
   "outputs": [
    {
     "name": "stdout",
     "output_type": "stream",
     "text": [
      "                            OLS Regression Results                            \n",
      "==============================================================================\n",
      "Dep. Variable:                  price   R-squared:                       0.412\n",
      "Model:                            OLS   Adj. R-squared:                  0.412\n",
      "Method:                 Least Squares   F-statistic:                     5628.\n",
      "Date:                Sat, 18 Mar 2023   Prob (F-statistic):               0.00\n",
      "Time:                        00:10:34   Log-Likelihood:            -2.3979e+05\n",
      "No. Observations:               16037   AIC:                         4.796e+05\n",
      "Df Residuals:                   16034   BIC:                         4.796e+05\n",
      "Df Model:                           2                                         \n",
      "Covariance Type:            nonrobust                                         \n",
      "===============================================================================\n",
      "                  coef    std err          t      P>|t|      [0.025      0.975]\n",
      "-------------------------------------------------------------------------------\n",
      "const        1.172e+06   6400.263    183.178      0.000    1.16e+06    1.18e+06\n",
      "sqft_living   537.4194      8.716     61.661      0.000     520.336     554.503\n",
      "bathrooms    1.282e+05   1.17e+04     10.987      0.000    1.05e+05    1.51e+05\n",
      "==============================================================================\n",
      "Omnibus:                    24334.868   Durbin-Watson:                   1.814\n",
      "Prob(Omnibus):                  0.000   Jarque-Bera (JB):         36476757.784\n",
      "Skew:                           8.986   Prob(JB):                         0.00\n",
      "Kurtosis:                     235.950   Cond. No.                     2.07e+03\n",
      "==============================================================================\n",
      "\n",
      "Notes:\n",
      "[1] Standard Errors assume that the covariance matrix of the errors is correctly specified.\n",
      "[2] The condition number is large, 2.07e+03. This might indicate that there are\n",
      "strong multicollinearity or other numerical problems.\n"
     ]
    }
   ],
   "source": [
    "# Create the second model and results summary\n",
    "second=sm.OLS(y, sm.add_constant(X_second))\n",
    "second_results=second.fit()\n",
    "print(second_results.summary())"
   ]
  },
  {
   "cell_type": "markdown",
   "metadata": {},
   "source": [
    "### Second Model Interpretation\n",
    "We have a slightly improved R-squared value, and 41.2% of the price variation is explained. All predictors and the overall model are statistically significant. Thus, a home with average living area and number of bathrooms can be expected to sell for around 1.2 million, and increases in `sqft_living` and `bathrooms` inflate prices by 537 and 13K, respectively."
   ]
  },
  {
   "cell_type": "markdown",
   "metadata": {},
   "source": [
    "### Third Model (Multiple Regression Model Cont.)\n",
    "Certain columns are not in the form of numbers, but we hypothesize they may have a significant impact on price levels. For instance, `grade` logically sounds like a variable that will influence how much a property sells for. We will inspect the initial data and remap the `grade` column so we can use it in our analysis. We will also visualize the relationship between `grade` and `price`. We expect prices to rise with grade ratings."
   ]
  },
  {
   "cell_type": "code",
   "execution_count": 14,
   "metadata": {},
   "outputs": [
    {
     "data": {
      "text/plain": [
       "id\n",
       "1604601802     9 Better\n",
       "8562780790    7 Average\n",
       "7137850210       8 Good\n",
       "2944500680       8 Good\n",
       "2619950340       8 Good\n",
       "                ...    \n",
       "6142050730       8 Good\n",
       "9376300851       8 Good\n",
       "194000695     7 Average\n",
       "7960100080    7 Average\n",
       "2781280080       8 Good\n",
       "Name: grade, Length: 16037, dtype: object"
      ]
     },
     "execution_count": 14,
     "metadata": {},
     "output_type": "execute_result"
    }
   ],
   "source": [
    "# \"grade\" appears to be correlated with price as well\n",
    "# Inspect values\n",
    "grade_data=data['grade'].copy()\n",
    "grade_data"
   ]
  },
  {
   "cell_type": "code",
   "execution_count": 15,
   "metadata": {},
   "outputs": [
    {
     "name": "stderr",
     "output_type": "stream",
     "text": [
      "/var/folders/79/5nwh277d2kz9wy43lcqjbbkr0000gn/T/ipykernel_2927/291473580.py:11: SettingWithCopyWarning: \n",
      "A value is trying to be set on a copy of a slice from a DataFrame.\n",
      "Try using .loc[row_indexer,col_indexer] = value instead\n",
      "\n",
      "See the caveats in the documentation: https://pandas.pydata.org/pandas-docs/stable/user_guide/indexing.html#returning-a-view-versus-a-copy\n",
      "  X_third[\"grade\"] = data['grade']\n"
     ]
    }
   ],
   "source": [
    "# \"grade\" is a discrete variable in the form of a string\n",
    "# Create another dataframe to include \"grade\" with the previous model\n",
    "X_third=data[['sqft_living', 'bathrooms', 'grade']]\n",
    "\n",
    "# Since \"grade\" is in string form, we need to map the column and replace it with its corresponding number\n",
    "# Create a dictionary for the mapping process\n",
    "grade_mapper = {\"2 Substandard\": 2, \"4 Low\": 4, \"5 Fair\":5, \"6 Low Average\": 6, \"7 Average\": 7, \"8 Good\": 8, \"9 Better\": 9, \"10 Very Good\": 10, \"11 Excellent\": 11, \"12 Luxury\": 12, \"13 Mansion\": 13}\n",
    "\n",
    "# Replace the values in the column with those in the \"grade_mapper\" dictionary\n",
    "data['grade']=data['grade'].replace(grade_mapper)\n",
    "X_third[\"grade\"] = data['grade']"
   ]
  },
  {
   "cell_type": "code",
   "execution_count": 16,
   "metadata": {},
   "outputs": [
    {
     "name": "stderr",
     "output_type": "stream",
     "text": [
      "/var/folders/79/5nwh277d2kz9wy43lcqjbbkr0000gn/T/ipykernel_2927/2517493828.py:2: SettingWithCopyWarning: \n",
      "A value is trying to be set on a copy of a slice from a DataFrame.\n",
      "Try using .loc[row_indexer,col_indexer] = value instead\n",
      "\n",
      "See the caveats in the documentation: https://pandas.pydata.org/pandas-docs/stable/user_guide/indexing.html#returning-a-view-versus-a-copy\n",
      "  X_third[\"grade\"]=X_third[\"grade\"]-X_third['grade'].median()\n"
     ]
    },
    {
     "data": {
      "text/html": [
       "<div>\n",
       "<style scoped>\n",
       "    .dataframe tbody tr th:only-of-type {\n",
       "        vertical-align: middle;\n",
       "    }\n",
       "\n",
       "    .dataframe tbody tr th {\n",
       "        vertical-align: top;\n",
       "    }\n",
       "\n",
       "    .dataframe thead th {\n",
       "        text-align: right;\n",
       "    }\n",
       "</style>\n",
       "<table border=\"1\" class=\"dataframe\">\n",
       "  <thead>\n",
       "    <tr style=\"text-align: right;\">\n",
       "      <th></th>\n",
       "      <th>sqft_living</th>\n",
       "      <th>bathrooms</th>\n",
       "      <th>grade</th>\n",
       "    </tr>\n",
       "    <tr>\n",
       "      <th>id</th>\n",
       "      <th></th>\n",
       "      <th></th>\n",
       "      <th></th>\n",
       "    </tr>\n",
       "  </thead>\n",
       "  <tbody>\n",
       "    <tr>\n",
       "      <th>1604601802</th>\n",
       "      <td>-223.129077</td>\n",
       "      <td>0.5</td>\n",
       "      <td>1.0</td>\n",
       "    </tr>\n",
       "    <tr>\n",
       "      <th>8562780790</th>\n",
       "      <td>-1263.129077</td>\n",
       "      <td>-0.5</td>\n",
       "      <td>-1.0</td>\n",
       "    </tr>\n",
       "    <tr>\n",
       "      <th>7137850210</th>\n",
       "      <td>-169.129077</td>\n",
       "      <td>0.0</td>\n",
       "      <td>0.0</td>\n",
       "    </tr>\n",
       "    <tr>\n",
       "      <th>2944500680</th>\n",
       "      <td>-43.129077</td>\n",
       "      <td>0.0</td>\n",
       "      <td>0.0</td>\n",
       "    </tr>\n",
       "    <tr>\n",
       "      <th>2619950340</th>\n",
       "      <td>596.870923</td>\n",
       "      <td>0.0</td>\n",
       "      <td>0.0</td>\n",
       "    </tr>\n",
       "    <tr>\n",
       "      <th>...</th>\n",
       "      <td>...</td>\n",
       "      <td>...</td>\n",
       "      <td>...</td>\n",
       "    </tr>\n",
       "    <tr>\n",
       "      <th>6142050730</th>\n",
       "      <td>716.870923</td>\n",
       "      <td>1.0</td>\n",
       "      <td>0.0</td>\n",
       "    </tr>\n",
       "    <tr>\n",
       "      <th>9376300851</th>\n",
       "      <td>-1113.129077</td>\n",
       "      <td>0.0</td>\n",
       "      <td>0.0</td>\n",
       "    </tr>\n",
       "    <tr>\n",
       "      <th>194000695</th>\n",
       "      <td>-363.129077</td>\n",
       "      <td>-0.5</td>\n",
       "      <td>-1.0</td>\n",
       "    </tr>\n",
       "    <tr>\n",
       "      <th>7960100080</th>\n",
       "      <td>-763.129077</td>\n",
       "      <td>-0.5</td>\n",
       "      <td>-1.0</td>\n",
       "    </tr>\n",
       "    <tr>\n",
       "      <th>2781280080</th>\n",
       "      <td>186.870923</td>\n",
       "      <td>0.0</td>\n",
       "      <td>0.0</td>\n",
       "    </tr>\n",
       "  </tbody>\n",
       "</table>\n",
       "<p>16037 rows × 3 columns</p>\n",
       "</div>"
      ],
      "text/plain": [
       "            sqft_living  bathrooms  grade\n",
       "id                                       \n",
       "1604601802  -223.129077        0.5    1.0\n",
       "8562780790 -1263.129077       -0.5   -1.0\n",
       "7137850210  -169.129077        0.0    0.0\n",
       "2944500680   -43.129077        0.0    0.0\n",
       "2619950340   596.870923        0.0    0.0\n",
       "...                 ...        ...    ...\n",
       "6142050730   716.870923        1.0    0.0\n",
       "9376300851 -1113.129077        0.0    0.0\n",
       "194000695   -363.129077       -0.5   -1.0\n",
       "7960100080  -763.129077       -0.5   -1.0\n",
       "2781280080   186.870923        0.0    0.0\n",
       "\n",
       "[16037 rows x 3 columns]"
      ]
     },
     "execution_count": 16,
     "metadata": {},
     "output_type": "execute_result"
    }
   ],
   "source": [
    "# Center the data again to make it consistent\n",
    "X_third[\"grade\"]=X_third[\"grade\"]-X_third['grade'].median()\n",
    "X_third"
   ]
  },
  {
   "cell_type": "code",
   "execution_count": 17,
   "metadata": {},
   "outputs": [
    {
     "data": {
      "image/png": "[encoded data removed]",
      "text/plain": [
       "<Figure size 720x360 with 1 Axes>"
      ]
     },
     "metadata": {
      "needs_background": "light"
     },
     "output_type": "display_data"
    }
   ],
   "source": [
    "# Visualize data of grade versus price\n",
    "plt.figure(figsize=(10,5))\n",
    "df=data[['grade', 'price']]\n",
    "sns.barplot(data=df, x='grade', y='price').set(title='KC Prices by Grade')\n",
    "plt.gcf().axes[0].yaxis.get_major_formatter().set_scientific(False)"
   ]
  },
  {
   "cell_type": "markdown",
   "metadata": {},
   "source": [
    "The relationship shown in the graph is in line with what we expect. Now that we have transformed the `grade` column to be numeric, we will include it in our regression model and create another summary output."
   ]
  },
  {
   "cell_type": "code",
   "execution_count": 18,
   "metadata": {},
   "outputs": [
    {
     "name": "stdout",
     "output_type": "stream",
     "text": [
      "                            OLS Regression Results                            \n",
      "==============================================================================\n",
      "Dep. Variable:                  price   R-squared:                       0.470\n",
      "Model:                            OLS   Adj. R-squared:                  0.470\n",
      "Method:                 Least Squares   F-statistic:                     4746.\n",
      "Date:                Sat, 18 Mar 2023   Prob (F-statistic):               0.00\n",
      "Time:                        00:10:34   Log-Likelihood:            -2.3896e+05\n",
      "No. Observations:               16037   AIC:                         4.779e+05\n",
      "Df Residuals:                   16033   BIC:                         4.780e+05\n",
      "Df Model:                           3                                         \n",
      "Covariance Type:            nonrobust                                         \n",
      "===============================================================================\n",
      "                  coef    std err          t      P>|t|      [0.025      0.975]\n",
      "-------------------------------------------------------------------------------\n",
      "const        1.124e+06   6184.711    181.789      0.000    1.11e+06    1.14e+06\n",
      "sqft_living   325.4702      9.702     33.546      0.000     306.453     344.488\n",
      "bathrooms    1.145e+05   1.11e+04     10.336      0.000    9.28e+04    1.36e+05\n",
      "grade        3.066e+05   7325.642     41.852      0.000    2.92e+05    3.21e+05\n",
      "==============================================================================\n",
      "Omnibus:                    25356.284   Durbin-Watson:                   1.811\n",
      "Prob(Omnibus):                  0.000   Jarque-Bera (JB):         44619515.833\n",
      "Skew:                           9.756   Prob(JB):                         0.00\n",
      "Kurtosis:                     260.671   Cond. No.                     2.07e+03\n",
      "==============================================================================\n",
      "\n",
      "Notes:\n",
      "[1] Standard Errors assume that the covariance matrix of the errors is correctly specified.\n",
      "[2] The condition number is large, 2.07e+03. This might indicate that there are\n",
      "strong multicollinearity or other numerical problems.\n"
     ]
    }
   ],
   "source": [
    "# Create the third model with \"grade\" and print results\n",
    "third=sm.OLS(data['price'], sm.add_constant(X_third))\n",
    "third_results=third.fit()\n",
    "print(third_results.summary())"
   ]
  },
  {
   "cell_type": "markdown",
   "metadata": {
    "scrolled": true
   },
   "source": [
    "### Third Model Interpretation\n",
    "All variables and the model are statistically significant. We predict that an additional grade will increase the value of the average home by ~$31K."
   ]
  },
  {
   "cell_type": "markdown",
   "metadata": {},
   "source": [
    "### Fourth Model (Categorical Predictors)"
   ]
  },
  {
   "cell_type": "code",
   "execution_count": 19,
   "metadata": {
    "scrolled": false
   },
   "outputs": [
    {
     "name": "stdout",
     "output_type": "stream",
     "text": [
      "                            OLS Regression Results                            \n",
      "==============================================================================\n",
      "Dep. Variable:                  price   R-squared:                       0.510\n",
      "Model:                            OLS   Adj. R-squared:                  0.510\n",
      "Method:                 Least Squares   F-statistic:                     2087.\n",
      "Date:                Sat, 18 Mar 2023   Prob (F-statistic):               0.00\n",
      "Time:                        00:10:34   Log-Likelihood:            -2.3833e+05\n",
      "No. Observations:               16037   AIC:                         4.767e+05\n",
      "Df Residuals:                   16028   BIC:                         4.767e+05\n",
      "Df Model:                           8                                         \n",
      "Covariance Type:            nonrobust                                         \n",
      "==================================================================================\n",
      "                     coef    std err          t      P>|t|      [0.025      0.975]\n",
      "----------------------------------------------------------------------------------\n",
      "const           1.144e+06    2.5e+04     45.706      0.000    1.09e+06    1.19e+06\n",
      "sqft_living      296.9651      9.397     31.603      0.000     278.547     315.384\n",
      "bathrooms       1.192e+05   1.07e+04     11.180      0.000    9.83e+04     1.4e+05\n",
      "grade           2.874e+05   7095.435     40.506      0.000    2.74e+05    3.01e+05\n",
      "waterfront_YES  1.006e+06   5.59e+04     17.998      0.000    8.97e+05    1.12e+06\n",
      "view_EXCELLENT  9.687e+05   5.64e+04     17.187      0.000    8.58e+05    1.08e+06\n",
      "view_FAIR       2.798e+05   8.13e+04      3.440      0.001     1.2e+05    4.39e+05\n",
      "view_GOOD      -1.482e+04   4.22e+04     -0.351      0.726   -9.76e+04    6.79e+04\n",
      "view_NONE      -4.926e+04   2.56e+04     -1.928      0.054   -9.93e+04     826.560\n",
      "==============================================================================\n",
      "Omnibus:                    23814.232   Durbin-Watson:                   1.792\n",
      "Prob(Omnibus):                  0.000   Jarque-Bera (JB):         33110530.137\n",
      "Skew:                           8.607   Prob(JB):                         0.00\n",
      "Kurtosis:                     224.934   Cond. No.                     1.59e+04\n",
      "==============================================================================\n",
      "\n",
      "Notes:\n",
      "[1] Standard Errors assume that the covariance matrix of the errors is correctly specified.\n",
      "[2] The condition number is large, 1.59e+04. This might indicate that there are\n",
      "strong multicollinearity or other numerical problems.\n"
     ]
    }
   ],
   "source": [
    "# Add categorical variables ('waterfront' and 'view') and dummify them\n",
    "X_fourth=X_third[['sqft_living', 'bathrooms', 'grade']]\n",
    "X_fourth['waterfront']=data['waterfront']\n",
    "X_fourth['view']=data['view']\n",
    "X_fourth=pd.get_dummies(X_fourth, columns=['waterfront', 'view'])\n",
    "\n",
    "# Drop the columns below to make them the reference category\n",
    "X_fourth.drop(columns=['waterfront_NO', 'view_AVERAGE'], inplace=True)\n",
    "\n",
    "# Pass the dataframe into statsmodels and print results\n",
    "fourth=sm.OLS(data['price'], sm.add_constant(X_fourth))\n",
    "fourth_results=fourth.fit()\n",
    "print(fourth_results.summary())"
   ]
  },
  {
   "cell_type": "markdown",
   "metadata": {},
   "source": [
    "The fourth model accounts for 51.1% of the variance in sale price and models against a reference home with average living area, bathrooms, grade, view, and no waterfront. We cannot conclude that `view_GOOD` nor `view_NONE` has a statistically significant impact on price. However, fair and excellent views appear to influence home values against the reference property."
   ]
  },
  {
   "cell_type": "code",
   "execution_count": 20,
   "metadata": {
    "scrolled": false
   },
   "outputs": [
    {
     "data": {
      "image/png": "[encoded data removed]",
      "text/plain": [
       "<Figure size 1080x360 with 2 Axes>"
      ]
     },
     "metadata": {
      "needs_background": "light"
     },
     "output_type": "display_data"
    }
   ],
   "source": [
    "# Visualize 'sqft_living' vs. 'price' and make the color hues based on 'waterfront' using seaborn\n",
    "import seaborn as sns\n",
    "fig, (ax1, ax2) = plt.subplots(ncols=2, figsize=(15,5))\n",
    "sns.scatterplot(x=data['sqft_living'], y=data['price'], hue=data['waterfront'], data=data, palette='magma', ax=ax1)\n",
    "ax1.set_title('Hue Based on \"waterfront\"', fontsize=20)\n",
    "\n",
    "# The same visualization is run, with hues based on 'view\n",
    "sns.scatterplot(x=data['sqft_living'], y=data['price'], hue=data['view'], data=data, palette='pastel', ax=ax2)\n",
    "ax2.set(ylabel=None)\n",
    "ax2.tick_params(left=False)\n",
    "ax2.set(yticklabels=[])\n",
    "ax2.set_title('Hue Based on \"view\"', fontsize=20)\n",
    "\n",
    "plt.gcf().axes[0].yaxis.get_major_formatter().set_scientific(False)"
   ]
  },
  {
   "cell_type": "markdown",
   "metadata": {},
   "source": [
    "### Summary Table of Regressions Thus Far"
   ]
  },
  {
   "cell_type": "code",
   "execution_count": 21,
   "metadata": {},
   "outputs": [
    {
     "data": {
      "text/html": [
       "<div>\n",
       "<style scoped>\n",
       "    .dataframe tbody tr th:only-of-type {\n",
       "        vertical-align: middle;\n",
       "    }\n",
       "\n",
       "    .dataframe tbody tr th {\n",
       "        vertical-align: top;\n",
       "    }\n",
       "\n",
       "    .dataframe thead th {\n",
       "        text-align: right;\n",
       "    }\n",
       "</style>\n",
       "<table border=\"1\" class=\"dataframe\">\n",
       "  <thead>\n",
       "    <tr style=\"text-align: right;\">\n",
       "      <th></th>\n",
       "      <th>Model</th>\n",
       "      <th>Independent Variables</th>\n",
       "      <th>R-squared</th>\n",
       "      <th>Adj R-squared</th>\n",
       "    </tr>\n",
       "  </thead>\n",
       "  <tbody>\n",
       "    <tr>\n",
       "      <th>0</th>\n",
       "      <td>Baseline Model</td>\n",
       "      <td>sqft_living</td>\n",
       "      <td>0.408050</td>\n",
       "      <td>0.408013</td>\n",
       "    </tr>\n",
       "    <tr>\n",
       "      <th>1</th>\n",
       "      <td>Second Model</td>\n",
       "      <td>sqft_living, bathrooms</td>\n",
       "      <td>0.412473</td>\n",
       "      <td>0.412399</td>\n",
       "    </tr>\n",
       "    <tr>\n",
       "      <th>2</th>\n",
       "      <td>Third Model</td>\n",
       "      <td>sqft_living, bathrooms, grade</td>\n",
       "      <td>0.470337</td>\n",
       "      <td>0.470238</td>\n",
       "    </tr>\n",
       "    <tr>\n",
       "      <th>3</th>\n",
       "      <td>Fourth Model</td>\n",
       "      <td>sqft_living, bathrooms, grade, waterfront, view</td>\n",
       "      <td>0.510179</td>\n",
       "      <td>0.509935</td>\n",
       "    </tr>\n",
       "  </tbody>\n",
       "</table>\n",
       "</div>"
      ],
      "text/plain": [
       "            Model                            Independent Variables  R-squared  \\\n",
       "0  Baseline Model                                      sqft_living   0.408050   \n",
       "1    Second Model                           sqft_living, bathrooms   0.412473   \n",
       "2     Third Model                    sqft_living, bathrooms, grade   0.470337   \n",
       "3    Fourth Model  sqft_living, bathrooms, grade, waterfront, view   0.510179   \n",
       "\n",
       "   Adj R-squared  \n",
       "0       0.408013  \n",
       "1       0.412399  \n",
       "2       0.470238  \n",
       "3       0.509935  "
      ]
     },
     "execution_count": 21,
     "metadata": {},
     "output_type": "execute_result"
    }
   ],
   "source": [
    "# Create a summary table of regressions that have been run\n",
    "summary_table=pd.DataFrame({'Model': [], 'Independent Variables':[], 'R-squared':[],\n",
    "                                'Adj R-squared':[]})\n",
    "summary_table.loc[0]=('Baseline Model', 'sqft_living', baseline_results.rsquared, baseline_results.rsquared_adj)\n",
    "summary_table.loc[1]=('Second Model', 'sqft_living, bathrooms', second_results.rsquared, second_results.rsquared_adj)\n",
    "summary_table.loc[2]=('Third Model', 'sqft_living, bathrooms, grade', third_results.rsquared, third_results.rsquared_adj)\n",
    "summary_table.loc[3]=('Fourth Model', 'sqft_living, bathrooms, grade, waterfront, view', fourth_results.rsquared, fourth_results.rsquared_adj)\n",
    "pd.set_option('max_colwidth', 90)\n",
    "summary_table"
   ]
  },
  {
   "cell_type": "markdown",
   "metadata": {},
   "source": [
    "### Final Model (Interaction Term)"
   ]
  },
  {
   "cell_type": "code",
   "execution_count": 22,
   "metadata": {},
   "outputs": [
    {
     "data": {
      "text/html": [
       "<div>\n",
       "<style scoped>\n",
       "    .dataframe tbody tr th:only-of-type {\n",
       "        vertical-align: middle;\n",
       "    }\n",
       "\n",
       "    .dataframe tbody tr th {\n",
       "        vertical-align: top;\n",
       "    }\n",
       "\n",
       "    .dataframe thead th {\n",
       "        text-align: right;\n",
       "    }\n",
       "</style>\n",
       "<table border=\"1\" class=\"dataframe\">\n",
       "  <thead>\n",
       "    <tr style=\"text-align: right;\">\n",
       "      <th></th>\n",
       "      <th>sqft_living</th>\n",
       "      <th>bathrooms</th>\n",
       "      <th>grade</th>\n",
       "      <th>waterfront_YES</th>\n",
       "      <th>view_EXCELLENT</th>\n",
       "      <th>view_FAIR</th>\n",
       "      <th>view_GOOD</th>\n",
       "      <th>view_NONE</th>\n",
       "      <th>sqft_living x waterfront_YES</th>\n",
       "    </tr>\n",
       "    <tr>\n",
       "      <th>id</th>\n",
       "      <th></th>\n",
       "      <th></th>\n",
       "      <th></th>\n",
       "      <th></th>\n",
       "      <th></th>\n",
       "      <th></th>\n",
       "      <th></th>\n",
       "      <th></th>\n",
       "      <th></th>\n",
       "    </tr>\n",
       "  </thead>\n",
       "  <tbody>\n",
       "    <tr>\n",
       "      <th>1604601802</th>\n",
       "      <td>-223.129077</td>\n",
       "      <td>0.5</td>\n",
       "      <td>1.0</td>\n",
       "      <td>0</td>\n",
       "      <td>0</td>\n",
       "      <td>0</td>\n",
       "      <td>0</td>\n",
       "      <td>0</td>\n",
       "      <td>-0.0</td>\n",
       "    </tr>\n",
       "    <tr>\n",
       "      <th>8562780790</th>\n",
       "      <td>-1263.129077</td>\n",
       "      <td>-0.5</td>\n",
       "      <td>-1.0</td>\n",
       "      <td>0</td>\n",
       "      <td>0</td>\n",
       "      <td>0</td>\n",
       "      <td>0</td>\n",
       "      <td>1</td>\n",
       "      <td>-0.0</td>\n",
       "    </tr>\n",
       "    <tr>\n",
       "      <th>7137850210</th>\n",
       "      <td>-169.129077</td>\n",
       "      <td>0.0</td>\n",
       "      <td>0.0</td>\n",
       "      <td>0</td>\n",
       "      <td>0</td>\n",
       "      <td>0</td>\n",
       "      <td>0</td>\n",
       "      <td>1</td>\n",
       "      <td>-0.0</td>\n",
       "    </tr>\n",
       "    <tr>\n",
       "      <th>2944500680</th>\n",
       "      <td>-43.129077</td>\n",
       "      <td>0.0</td>\n",
       "      <td>0.0</td>\n",
       "      <td>0</td>\n",
       "      <td>0</td>\n",
       "      <td>0</td>\n",
       "      <td>0</td>\n",
       "      <td>1</td>\n",
       "      <td>-0.0</td>\n",
       "    </tr>\n",
       "    <tr>\n",
       "      <th>2619950340</th>\n",
       "      <td>596.870923</td>\n",
       "      <td>0.0</td>\n",
       "      <td>0.0</td>\n",
       "      <td>0</td>\n",
       "      <td>0</td>\n",
       "      <td>0</td>\n",
       "      <td>0</td>\n",
       "      <td>0</td>\n",
       "      <td>0.0</td>\n",
       "    </tr>\n",
       "    <tr>\n",
       "      <th>...</th>\n",
       "      <td>...</td>\n",
       "      <td>...</td>\n",
       "      <td>...</td>\n",
       "      <td>...</td>\n",
       "      <td>...</td>\n",
       "      <td>...</td>\n",
       "      <td>...</td>\n",
       "      <td>...</td>\n",
       "      <td>...</td>\n",
       "    </tr>\n",
       "    <tr>\n",
       "      <th>6142050730</th>\n",
       "      <td>716.870923</td>\n",
       "      <td>1.0</td>\n",
       "      <td>0.0</td>\n",
       "      <td>0</td>\n",
       "      <td>0</td>\n",
       "      <td>0</td>\n",
       "      <td>0</td>\n",
       "      <td>1</td>\n",
       "      <td>0.0</td>\n",
       "    </tr>\n",
       "    <tr>\n",
       "      <th>9376300851</th>\n",
       "      <td>-1113.129077</td>\n",
       "      <td>0.0</td>\n",
       "      <td>0.0</td>\n",
       "      <td>0</td>\n",
       "      <td>0</td>\n",
       "      <td>0</td>\n",
       "      <td>0</td>\n",
       "      <td>1</td>\n",
       "      <td>-0.0</td>\n",
       "    </tr>\n",
       "    <tr>\n",
       "      <th>194000695</th>\n",
       "      <td>-363.129077</td>\n",
       "      <td>-0.5</td>\n",
       "      <td>-1.0</td>\n",
       "      <td>0</td>\n",
       "      <td>0</td>\n",
       "      <td>1</td>\n",
       "      <td>0</td>\n",
       "      <td>0</td>\n",
       "      <td>-0.0</td>\n",
       "    </tr>\n",
       "    <tr>\n",
       "      <th>7960100080</th>\n",
       "      <td>-763.129077</td>\n",
       "      <td>-0.5</td>\n",
       "      <td>-1.0</td>\n",
       "      <td>0</td>\n",
       "      <td>0</td>\n",
       "      <td>0</td>\n",
       "      <td>0</td>\n",
       "      <td>1</td>\n",
       "      <td>-0.0</td>\n",
       "    </tr>\n",
       "    <tr>\n",
       "      <th>2781280080</th>\n",
       "      <td>186.870923</td>\n",
       "      <td>0.0</td>\n",
       "      <td>0.0</td>\n",
       "      <td>0</td>\n",
       "      <td>0</td>\n",
       "      <td>0</td>\n",
       "      <td>0</td>\n",
       "      <td>1</td>\n",
       "      <td>0.0</td>\n",
       "    </tr>\n",
       "  </tbody>\n",
       "</table>\n",
       "<p>16037 rows × 9 columns</p>\n",
       "</div>"
      ],
      "text/plain": [
       "            sqft_living  bathrooms  grade  waterfront_YES  view_EXCELLENT  \\\n",
       "id                                                                          \n",
       "1604601802  -223.129077        0.5    1.0               0               0   \n",
       "8562780790 -1263.129077       -0.5   -1.0               0               0   \n",
       "7137850210  -169.129077        0.0    0.0               0               0   \n",
       "2944500680   -43.129077        0.0    0.0               0               0   \n",
       "2619950340   596.870923        0.0    0.0               0               0   \n",
       "...                 ...        ...    ...             ...             ...   \n",
       "6142050730   716.870923        1.0    0.0               0               0   \n",
       "9376300851 -1113.129077        0.0    0.0               0               0   \n",
       "194000695   -363.129077       -0.5   -1.0               0               0   \n",
       "7960100080  -763.129077       -0.5   -1.0               0               0   \n",
       "2781280080   186.870923        0.0    0.0               0               0   \n",
       "\n",
       "            view_FAIR  view_GOOD  view_NONE  sqft_living x waterfront_YES  \n",
       "id                                                                         \n",
       "1604601802          0          0          0                          -0.0  \n",
       "8562780790          0          0          1                          -0.0  \n",
       "7137850210          0          0          1                          -0.0  \n",
       "2944500680          0          0          1                          -0.0  \n",
       "2619950340          0          0          0                           0.0  \n",
       "...               ...        ...        ...                           ...  \n",
       "6142050730          0          0          1                           0.0  \n",
       "9376300851          0          0          1                          -0.0  \n",
       "194000695           1          0          0                          -0.0  \n",
       "7960100080          0          0          1                          -0.0  \n",
       "2781280080          0          0          1                           0.0  \n",
       "\n",
       "[16037 rows x 9 columns]"
      ]
     },
     "execution_count": 22,
     "metadata": {},
     "output_type": "execute_result"
    }
   ],
   "source": [
    "# Construct a final model with an interaction term\n",
    "# Create an initial dataframe without an interaction term\n",
    "X_no_interaction = data[['sqft_living', 'bathrooms', 'waterfront', 'view']].copy()\n",
    "X_no_interaction['grade']=X_fourth['grade']\n",
    "X_no_interaction = pd.get_dummies(X_no_interaction, columns=['waterfront', 'view'])\n",
    "X_no_interaction.drop(columns=['waterfront_NO','view_AVERAGE'], inplace=True)\n",
    "\n",
    "# Add the interaction term\n",
    "# Explore how adding more space to homes with amenities like a waterfront impact property values\n",
    "X_interaction=X_no_interaction.copy()\n",
    "X_interaction[\"sqft_living x waterfront_YES\"] = X_interaction[\"sqft_living\"] * X_interaction[\"waterfront_YES\"]\n",
    "X_interaction"
   ]
  },
  {
   "cell_type": "code",
   "execution_count": 23,
   "metadata": {},
   "outputs": [
    {
     "data": {
      "text/html": [
       "<div>\n",
       "<style scoped>\n",
       "    .dataframe tbody tr th:only-of-type {\n",
       "        vertical-align: middle;\n",
       "    }\n",
       "\n",
       "    .dataframe tbody tr th {\n",
       "        vertical-align: top;\n",
       "    }\n",
       "\n",
       "    .dataframe thead th {\n",
       "        text-align: right;\n",
       "    }\n",
       "</style>\n",
       "<table border=\"1\" class=\"dataframe\">\n",
       "  <thead>\n",
       "    <tr style=\"text-align: right;\">\n",
       "      <th></th>\n",
       "      <th>p-value</th>\n",
       "      <th>p &lt; 0.05</th>\n",
       "    </tr>\n",
       "  </thead>\n",
       "  <tbody>\n",
       "    <tr>\n",
       "      <th>const</th>\n",
       "      <td>0.000000e+00</td>\n",
       "      <td>True</td>\n",
       "    </tr>\n",
       "    <tr>\n",
       "      <th>sqft_living</th>\n",
       "      <td>7.640501e-196</td>\n",
       "      <td>True</td>\n",
       "    </tr>\n",
       "    <tr>\n",
       "      <th>bathrooms</th>\n",
       "      <td>3.199481e-26</td>\n",
       "      <td>True</td>\n",
       "    </tr>\n",
       "    <tr>\n",
       "      <th>grade</th>\n",
       "      <td>0.000000e+00</td>\n",
       "      <td>True</td>\n",
       "    </tr>\n",
       "    <tr>\n",
       "      <th>waterfront_YES</th>\n",
       "      <td>6.189848e-09</td>\n",
       "      <td>True</td>\n",
       "    </tr>\n",
       "    <tr>\n",
       "      <th>view_EXCELLENT</th>\n",
       "      <td>7.070272e-46</td>\n",
       "      <td>True</td>\n",
       "    </tr>\n",
       "    <tr>\n",
       "      <th>view_FAIR</th>\n",
       "      <td>6.803259e-04</td>\n",
       "      <td>True</td>\n",
       "    </tr>\n",
       "    <tr>\n",
       "      <th>view_GOOD</th>\n",
       "      <td>9.737306e-01</td>\n",
       "      <td>False</td>\n",
       "    </tr>\n",
       "    <tr>\n",
       "      <th>view_NONE</th>\n",
       "      <td>2.680002e-03</td>\n",
       "      <td>True</td>\n",
       "    </tr>\n",
       "    <tr>\n",
       "      <th>sqft_living x waterfront_YES</th>\n",
       "      <td>2.499090e-100</td>\n",
       "      <td>True</td>\n",
       "    </tr>\n",
       "  </tbody>\n",
       "</table>\n",
       "</div>"
      ],
      "text/plain": [
       "                                    p-value  p < 0.05\n",
       "const                          0.000000e+00      True\n",
       "sqft_living                   7.640501e-196      True\n",
       "bathrooms                      3.199481e-26      True\n",
       "grade                          0.000000e+00      True\n",
       "waterfront_YES                 6.189848e-09      True\n",
       "view_EXCELLENT                 7.070272e-46      True\n",
       "view_FAIR                      6.803259e-04      True\n",
       "view_GOOD                      9.737306e-01     False\n",
       "view_NONE                      2.680002e-03      True\n",
       "sqft_living x waterfront_YES  2.499090e-100      True"
      ]
     },
     "execution_count": 23,
     "metadata": {},
     "output_type": "execute_result"
    }
   ],
   "source": [
    "# Pass the interaction dataframe into statsmodels\n",
    "interaction_model = sm.OLS(data['price'], sm.add_constant(X_interaction))\n",
    "interaction_results = interaction_model.fit()\n",
    "\n",
    "# Inspect the p-values of the independent variables in the final model\n",
    "pvalues_df = pd.DataFrame(interaction_results.pvalues, columns=[\"p-value\"])\n",
    "pvalues_df[\"p < 0.05\"] = pvalues_df[\"p-value\"] < 0.05\n",
    "pvalues_df"
   ]
  },
  {
   "cell_type": "code",
   "execution_count": 24,
   "metadata": {},
   "outputs": [
    {
     "data": {
      "text/html": [
       "<div>\n",
       "<style scoped>\n",
       "    .dataframe tbody tr th:only-of-type {\n",
       "        vertical-align: middle;\n",
       "    }\n",
       "\n",
       "    .dataframe tbody tr th {\n",
       "        vertical-align: top;\n",
       "    }\n",
       "\n",
       "    .dataframe thead th {\n",
       "        text-align: right;\n",
       "    }\n",
       "</style>\n",
       "<table border=\"1\" class=\"dataframe\">\n",
       "  <thead>\n",
       "    <tr style=\"text-align: right;\">\n",
       "      <th></th>\n",
       "      <th>sqft_living</th>\n",
       "      <th>bathrooms</th>\n",
       "      <th>grade</th>\n",
       "      <th>waterfront_YES</th>\n",
       "      <th>view_EXCELLENT</th>\n",
       "      <th>view_FAIR</th>\n",
       "      <th>view_NONE</th>\n",
       "      <th>sqft_living x waterfront_YES</th>\n",
       "    </tr>\n",
       "    <tr>\n",
       "      <th>id</th>\n",
       "      <th></th>\n",
       "      <th></th>\n",
       "      <th></th>\n",
       "      <th></th>\n",
       "      <th></th>\n",
       "      <th></th>\n",
       "      <th></th>\n",
       "      <th></th>\n",
       "    </tr>\n",
       "  </thead>\n",
       "  <tbody>\n",
       "    <tr>\n",
       "      <th>1604601802</th>\n",
       "      <td>-223.129077</td>\n",
       "      <td>0.5</td>\n",
       "      <td>1.0</td>\n",
       "      <td>0</td>\n",
       "      <td>0</td>\n",
       "      <td>0</td>\n",
       "      <td>0</td>\n",
       "      <td>-0.0</td>\n",
       "    </tr>\n",
       "    <tr>\n",
       "      <th>8562780790</th>\n",
       "      <td>-1263.129077</td>\n",
       "      <td>-0.5</td>\n",
       "      <td>-1.0</td>\n",
       "      <td>0</td>\n",
       "      <td>0</td>\n",
       "      <td>0</td>\n",
       "      <td>1</td>\n",
       "      <td>-0.0</td>\n",
       "    </tr>\n",
       "    <tr>\n",
       "      <th>7137850210</th>\n",
       "      <td>-169.129077</td>\n",
       "      <td>0.0</td>\n",
       "      <td>0.0</td>\n",
       "      <td>0</td>\n",
       "      <td>0</td>\n",
       "      <td>0</td>\n",
       "      <td>1</td>\n",
       "      <td>-0.0</td>\n",
       "    </tr>\n",
       "    <tr>\n",
       "      <th>2944500680</th>\n",
       "      <td>-43.129077</td>\n",
       "      <td>0.0</td>\n",
       "      <td>0.0</td>\n",
       "      <td>0</td>\n",
       "      <td>0</td>\n",
       "      <td>0</td>\n",
       "      <td>1</td>\n",
       "      <td>-0.0</td>\n",
       "    </tr>\n",
       "    <tr>\n",
       "      <th>2619950340</th>\n",
       "      <td>596.870923</td>\n",
       "      <td>0.0</td>\n",
       "      <td>0.0</td>\n",
       "      <td>0</td>\n",
       "      <td>0</td>\n",
       "      <td>0</td>\n",
       "      <td>0</td>\n",
       "      <td>0.0</td>\n",
       "    </tr>\n",
       "    <tr>\n",
       "      <th>...</th>\n",
       "      <td>...</td>\n",
       "      <td>...</td>\n",
       "      <td>...</td>\n",
       "      <td>...</td>\n",
       "      <td>...</td>\n",
       "      <td>...</td>\n",
       "      <td>...</td>\n",
       "      <td>...</td>\n",
       "    </tr>\n",
       "    <tr>\n",
       "      <th>6142050730</th>\n",
       "      <td>716.870923</td>\n",
       "      <td>1.0</td>\n",
       "      <td>0.0</td>\n",
       "      <td>0</td>\n",
       "      <td>0</td>\n",
       "      <td>0</td>\n",
       "      <td>1</td>\n",
       "      <td>0.0</td>\n",
       "    </tr>\n",
       "    <tr>\n",
       "      <th>9376300851</th>\n",
       "      <td>-1113.129077</td>\n",
       "      <td>0.0</td>\n",
       "      <td>0.0</td>\n",
       "      <td>0</td>\n",
       "      <td>0</td>\n",
       "      <td>0</td>\n",
       "      <td>1</td>\n",
       "      <td>-0.0</td>\n",
       "    </tr>\n",
       "    <tr>\n",
       "      <th>194000695</th>\n",
       "      <td>-363.129077</td>\n",
       "      <td>-0.5</td>\n",
       "      <td>-1.0</td>\n",
       "      <td>0</td>\n",
       "      <td>0</td>\n",
       "      <td>1</td>\n",
       "      <td>0</td>\n",
       "      <td>-0.0</td>\n",
       "    </tr>\n",
       "    <tr>\n",
       "      <th>7960100080</th>\n",
       "      <td>-763.129077</td>\n",
       "      <td>-0.5</td>\n",
       "      <td>-1.0</td>\n",
       "      <td>0</td>\n",
       "      <td>0</td>\n",
       "      <td>0</td>\n",
       "      <td>1</td>\n",
       "      <td>-0.0</td>\n",
       "    </tr>\n",
       "    <tr>\n",
       "      <th>2781280080</th>\n",
       "      <td>186.870923</td>\n",
       "      <td>0.0</td>\n",
       "      <td>0.0</td>\n",
       "      <td>0</td>\n",
       "      <td>0</td>\n",
       "      <td>0</td>\n",
       "      <td>1</td>\n",
       "      <td>0.0</td>\n",
       "    </tr>\n",
       "  </tbody>\n",
       "</table>\n",
       "<p>16037 rows × 8 columns</p>\n",
       "</div>"
      ],
      "text/plain": [
       "            sqft_living  bathrooms  grade  waterfront_YES  view_EXCELLENT  \\\n",
       "id                                                                          \n",
       "1604601802  -223.129077        0.5    1.0               0               0   \n",
       "8562780790 -1263.129077       -0.5   -1.0               0               0   \n",
       "7137850210  -169.129077        0.0    0.0               0               0   \n",
       "2944500680   -43.129077        0.0    0.0               0               0   \n",
       "2619950340   596.870923        0.0    0.0               0               0   \n",
       "...                 ...        ...    ...             ...             ...   \n",
       "6142050730   716.870923        1.0    0.0               0               0   \n",
       "9376300851 -1113.129077        0.0    0.0               0               0   \n",
       "194000695   -363.129077       -0.5   -1.0               0               0   \n",
       "7960100080  -763.129077       -0.5   -1.0               0               0   \n",
       "2781280080   186.870923        0.0    0.0               0               0   \n",
       "\n",
       "            view_FAIR  view_NONE  sqft_living x waterfront_YES  \n",
       "id                                                              \n",
       "1604601802          0          0                          -0.0  \n",
       "8562780790          0          1                          -0.0  \n",
       "7137850210          0          1                          -0.0  \n",
       "2944500680          0          1                          -0.0  \n",
       "2619950340          0          0                           0.0  \n",
       "...               ...        ...                           ...  \n",
       "6142050730          0          1                           0.0  \n",
       "9376300851          0          1                          -0.0  \n",
       "194000695           1          0                          -0.0  \n",
       "7960100080          0          1                          -0.0  \n",
       "2781280080          0          1                           0.0  \n",
       "\n",
       "[16037 rows x 8 columns]"
      ]
     },
     "execution_count": 24,
     "metadata": {},
     "output_type": "execute_result"
    }
   ],
   "source": [
    "# Return another dataframe that excludes statistically insignificant predictors\n",
    "X_interaction2=X_interaction.copy()\n",
    "X_interaction2=X_interaction2.drop(columns=['view_GOOD'])\n",
    "X_interaction2"
   ]
  },
  {
   "cell_type": "code",
   "execution_count": 25,
   "metadata": {},
   "outputs": [
    {
     "data": {
      "text/html": [
       "<div>\n",
       "<style scoped>\n",
       "    .dataframe tbody tr th:only-of-type {\n",
       "        vertical-align: middle;\n",
       "    }\n",
       "\n",
       "    .dataframe tbody tr th {\n",
       "        vertical-align: top;\n",
       "    }\n",
       "\n",
       "    .dataframe thead th {\n",
       "        text-align: right;\n",
       "    }\n",
       "</style>\n",
       "<table border=\"1\" class=\"dataframe\">\n",
       "  <thead>\n",
       "    <tr style=\"text-align: right;\">\n",
       "      <th></th>\n",
       "      <th>p-value</th>\n",
       "      <th>p &lt; 0.05</th>\n",
       "    </tr>\n",
       "  </thead>\n",
       "  <tbody>\n",
       "    <tr>\n",
       "      <th>const</th>\n",
       "      <td>0.000000e+00</td>\n",
       "      <td>True</td>\n",
       "    </tr>\n",
       "    <tr>\n",
       "      <th>sqft_living</th>\n",
       "      <td>4.802525e-196</td>\n",
       "      <td>True</td>\n",
       "    </tr>\n",
       "    <tr>\n",
       "      <th>bathrooms</th>\n",
       "      <td>3.155225e-26</td>\n",
       "      <td>True</td>\n",
       "    </tr>\n",
       "    <tr>\n",
       "      <th>grade</th>\n",
       "      <td>0.000000e+00</td>\n",
       "      <td>True</td>\n",
       "    </tr>\n",
       "    <tr>\n",
       "      <th>waterfront_YES</th>\n",
       "      <td>6.105523e-09</td>\n",
       "      <td>True</td>\n",
       "    </tr>\n",
       "    <tr>\n",
       "      <th>view_EXCELLENT</th>\n",
       "      <td>3.089371e-49</td>\n",
       "      <td>True</td>\n",
       "    </tr>\n",
       "    <tr>\n",
       "      <th>view_FAIR</th>\n",
       "      <td>5.482284e-04</td>\n",
       "      <td>True</td>\n",
       "    </tr>\n",
       "    <tr>\n",
       "      <th>view_NONE</th>\n",
       "      <td>3.919955e-04</td>\n",
       "      <td>True</td>\n",
       "    </tr>\n",
       "    <tr>\n",
       "      <th>sqft_living x waterfront_YES</th>\n",
       "      <td>2.317819e-100</td>\n",
       "      <td>True</td>\n",
       "    </tr>\n",
       "  </tbody>\n",
       "</table>\n",
       "</div>"
      ],
      "text/plain": [
       "                                    p-value  p < 0.05\n",
       "const                          0.000000e+00      True\n",
       "sqft_living                   4.802525e-196      True\n",
       "bathrooms                      3.155225e-26      True\n",
       "grade                          0.000000e+00      True\n",
       "waterfront_YES                 6.105523e-09      True\n",
       "view_EXCELLENT                 3.089371e-49      True\n",
       "view_FAIR                      5.482284e-04      True\n",
       "view_NONE                      3.919955e-04      True\n",
       "sqft_living x waterfront_YES  2.317819e-100      True"
      ]
     },
     "execution_count": 25,
     "metadata": {},
     "output_type": "execute_result"
    }
   ],
   "source": [
    "# Check that all predictors are significant\n",
    "interaction2_model=sm.OLS(data['price'], sm.add_constant(X_interaction2))\n",
    "interaction2_results=interaction2_model.fit()\n",
    "pvalues_df = pd.DataFrame(interaction2_results.pvalues, columns=[\"p-value\"])\n",
    "pvalues_df[\"p < 0.05\"] = pvalues_df[\"p-value\"] < 0.05\n",
    "pvalues_df"
   ]
  },
  {
   "cell_type": "code",
   "execution_count": 26,
   "metadata": {},
   "outputs": [
    {
     "name": "stdout",
     "output_type": "stream",
     "text": [
      "                            OLS Regression Results                            \n",
      "==============================================================================\n",
      "Dep. Variable:                  price   R-squared:                       0.524\n",
      "Model:                            OLS   Adj. R-squared:                  0.524\n",
      "Method:                 Least Squares   F-statistic:                     2204.\n",
      "Date:                Sat, 18 Mar 2023   Prob (F-statistic):               0.00\n",
      "Time:                        00:10:35   Log-Likelihood:            -2.3810e+05\n",
      "No. Observations:               16037   AIC:                         4.762e+05\n",
      "Df Residuals:                   16028   BIC:                         4.763e+05\n",
      "Df Model:                           8                                         \n",
      "Covariance Type:            nonrobust                                         \n",
      "================================================================================================\n",
      "                                   coef    std err          t      P>|t|      [0.025      0.975]\n",
      "------------------------------------------------------------------------------------------------\n",
      "const                          1.17e+06   2.06e+04     56.820      0.000    1.13e+06    1.21e+06\n",
      "sqft_living                    281.3630      9.289     30.291      0.000     263.156     299.570\n",
      "bathrooms                     1.116e+05   1.05e+04     10.613      0.000     9.1e+04    1.32e+05\n",
      "grade                         2.864e+05   6995.075     40.937      0.000    2.73e+05       3e+05\n",
      "waterfront_YES                3.648e+05   6.27e+04      5.817      0.000    2.42e+05    4.88e+05\n",
      "view_EXCELLENT                 8.01e+05   5.41e+04     14.800      0.000    6.95e+05    9.07e+05\n",
      "view_FAIR                      2.73e+05    7.9e+04      3.457      0.001    1.18e+05    4.28e+05\n",
      "view_NONE                     -7.53e+04   2.12e+04     -3.546      0.000   -1.17e+05   -3.37e+04\n",
      "sqft_living x waterfront_YES   628.8621     29.362     21.418      0.000     571.310     686.414\n",
      "==============================================================================\n",
      "Omnibus:                    24095.031   Durbin-Watson:                   1.787\n",
      "Prob(Omnibus):                  0.000   Jarque-Bera (JB):         39677860.321\n",
      "Skew:                           8.756   Prob(JB):                         0.00\n",
      "Kurtosis:                     246.049   Cond. No.                     1.53e+04\n",
      "==============================================================================\n",
      "\n",
      "Notes:\n",
      "[1] Standard Errors assume that the covariance matrix of the errors is correctly specified.\n",
      "[2] The condition number is large, 1.53e+04. This might indicate that there are\n",
      "strong multicollinearity or other numerical problems.\n"
     ]
    }
   ],
   "source": [
    "# Print results of the final model\n",
    "print(interaction2_results.summary())"
   ]
  },
  {
   "cell_type": "markdown",
   "metadata": {},
   "source": [
    "### Final Model Error Metric\n",
    "We will calculate the mean absolute error for our final regression model to determine how wrong our model is on average when projecting prices. We will compare this MAE with that of the baseline's."
   ]
  },
  {
   "cell_type": "code",
   "execution_count": 27,
   "metadata": {},
   "outputs": [
    {
     "data": {
      "text/plain": [
       "'The mean absolute error for the final model is: 370183.43826478004'"
      ]
     },
     "execution_count": 27,
     "metadata": {},
     "output_type": "execute_result"
    }
   ],
   "source": [
    "# Compute mean absolute error for final model\n",
    "y_pred=interaction2_results.predict(sm.add_constant(X_interaction2))\n",
    "mae_final=mean_absolute_error(data['price'], y_pred)\n",
    "f\"The mean absolute error for the final model is: {mae_final}\""
   ]
  },
  {
   "cell_type": "markdown",
   "metadata": {},
   "source": [
    "The mean absolute error for the final model is 370183.43826478004, which is significantly less than our baseline MAE of 423369.63912455307. Though there is still room for further improvement to reduce the average error from $370K, there is now a reduction in MAE by 12.56% compared to our initial run."
   ]
  },
  {
   "cell_type": "markdown",
   "metadata": {},
   "source": [
    "### Final Model Interpretation / Conclusion\n",
    "Homesellers who are looking for price guidance can refer to the regression models to determine how a given property compares to the average home in King County. The model prices the typical home with standard features at ~1.2 Million. Additionally, adjusting variables within a home that has certain \"nice-to-have\" amenities, such as a waterfront, has a greater impact on value. This is shown through the interaction term `sqft_living x waterfront_YES`, which indicates that a unit increase in `sqft_living` for an average-sized home with a waterfront adds ~629 instead of just 269. Moreover, `view_EXCELLENT` has the largest impact on price, with an expected increase of $82K. "
   ]
  },
  {
   "cell_type": "markdown",
   "metadata": {},
   "source": [
    "### Recommendation\n",
    "Homesellers interested in maximizing the value of their properties should aim to include at least one extra amenity (e.g. waterfront, excellent views), as additional features can greatly elevate values of the average property."
   ]
  },
  {
   "cell_type": "markdown",
   "metadata": {},
   "source": [
    "### Future Considerations\n",
    "* Using variables like `lat` and `long` to visualize the geographical distribution of homes would improve the model, as location is arguably the most important aspect of real estate\n",
    "* Leveraging population and socioeconomic data can provide insight into the typical homebuyer in the King County region\n",
    "* Enhancing the models with log or polynomial transformations to depict a more accurate relationship between variables"
   ]
  },
  {
   "cell_type": "markdown",
   "metadata": {},
   "source": [
    "### Appendix: Additional Transformation to Address Linearity Assumptions"
   ]
  },
  {
   "cell_type": "markdown",
   "metadata": {},
   "source": [
    "One of the main assumptions behind this analysis is that the relationship between dependent and independent variables is linear. However, that is often not the case. In the cells that follow we will create a residuals plot and a partial regression plot to determine the likelihood of a linear relationship. Then, we will run a model transformation to at least partially remedy the issue."
   ]
  },
  {
   "cell_type": "code",
   "execution_count": 28,
   "metadata": {},
   "outputs": [
    {
     "data": {
      "text/plain": [
       "Text(0.5, 1.0, 'Final Model Residual Plot')"
      ]
     },
     "execution_count": 28,
     "metadata": {},
     "output_type": "execute_result"
    },
    {
     "data": {
      "image/png": "[encoded data removed]",
      "text/plain": [
       "<Figure size 432x288 with 1 Axes>"
      ]
     },
     "metadata": {
      "needs_background": "light"
     },
     "output_type": "display_data"
    }
   ],
   "source": [
    "# create a residuals plot from the final regression run\n",
    "fig, ax = plt.subplots()\n",
    "ax.scatter(data['price'], interaction2_results.resid)\n",
    "ax.axhline(y=0, color='black')\n",
    "ax.set_xlabel(\"y\")\n",
    "ax.set_ylabel(\"residuals\")\n",
    "ax.set_title(\"Final Model Residual Plot\")"
   ]
  },
  {
   "cell_type": "markdown",
   "metadata": {},
   "source": [
    "Becuase the plot of the residuals do not mimic a residual plot of a linear relationship, we will try to investigate further with a partial regression plot below."
   ]
  },
  {
   "cell_type": "code",
   "execution_count": 29,
   "metadata": {},
   "outputs": [
    {
     "name": "stdout",
     "output_type": "stream",
     "text": [
      "eval_env: 1\n",
      "eval_env: 1\n",
      "eval_env: 1\n",
      "eval_env: 1\n"
     ]
    },
    {
     "data": {
      "image/png": "[encoded data removed]",
      "text/plain": [
       "<Figure size 1800x864 with 4 Axes>"
      ]
     },
     "metadata": {
      "needs_background": "light"
     },
     "output_type": "display_data"
    }
   ],
   "source": [
    "# create a partial regression plot with the numerical variables used in the final model\n",
    "fig = plt.figure(figsize=(25,12))\n",
    "sm.graphics.plot_partregress_grid(interaction2_results, exog_idx=[\"sqft_living\", \"bathrooms\", \"grade\", \"sqft_living x waterfront_YES\"], fig=fig)\n",
    "fig.suptitle(\"Partial Regression Plot for Numerical Variables\", fontsize=30)\n",
    "plt.tight_layout()\n",
    "plt.show()"
   ]
  },
  {
   "cell_type": "markdown",
   "metadata": {},
   "source": [
    "Since there appears to be a bit of a curvature with each of the partial regression plots, we will try to remedy the issue by conducting a log transformation below."
   ]
  },
  {
   "cell_type": "code",
   "execution_count": 30,
   "metadata": {},
   "outputs": [
    {
     "data": {
      "text/plain": [
       "id\n",
       "1604601802    13.560618\n",
       "8562780790    13.292106\n",
       "7137850210    13.617060\n",
       "2944500680    13.567049\n",
       "2619950340    13.790193\n",
       "                ...    \n",
       "6142050730    14.096923\n",
       "9376300851    13.485617\n",
       "194000695     14.087825\n",
       "7960100080    13.592367\n",
       "2781280080    13.560618\n",
       "Name: price, Length: 16037, dtype: float64"
      ]
     },
     "execution_count": 30,
     "metadata": {},
     "output_type": "execute_result"
    }
   ],
   "source": [
    "import numpy as np # import numpy\n",
    "data2=pd.read_csv('kc_house_data.csv', index_col=0) # reload the raw dataset \n",
    "data2=pd.DataFrame(data2) # pass the raw dataset into a dataframe\n",
    "# map the column \"grade\" with numerical values\n",
    "grade_mapper = {\"1 Cabin\": 1, \"2 Substandard\": 2, \"3 Poor\": 3, \"4 Low\": 4, \"5 Fair\":5, \"6 Low Average\": 6, \"7 Average\": 7, \"8 Good\": 8, \"9 Better\": 9, \"10 Very Good\": 10, \"11 Excellent\": 11, \"12 Luxury\": 12, \"13 Mansion\": 13}\n",
    "data2['grade']=data2['grade'].replace(grade_mapper)\n",
    "data2.dropna(inplace=True) # drop null rows\n",
    "data2=data2[data2['yr_built']>=1975] # exclude data for homes before 1975 to prevent oudated information\n",
    "y_log=data2['price']\n",
    "y_log=np.log(y_log) # log transform the target using numpy\n",
    "y_log # display output"
   ]
  },
  {
   "cell_type": "markdown",
   "metadata": {},
   "source": [
    "Now that we have transformed the `price` column, we will inspect the data's distribution in the graph below and compare it to a graph that shows the original, untransformed data."
   ]
  },
  {
   "cell_type": "code",
   "execution_count": 31,
   "metadata": {},
   "outputs": [
    {
     "data": {
      "text/plain": [
       "Text(0.5, 1.0, 'Log Transformed Data')"
      ]
     },
     "execution_count": 31,
     "metadata": {},
     "output_type": "execute_result"
    },
    {
     "data": {
      "image/png": "[encoded data removed]",
      "text/plain": [
       "<Figure size 720x360 with 1 Axes>"
      ]
     },
     "metadata": {
      "needs_background": "light"
     },
     "output_type": "display_data"
    }
   ],
   "source": [
    "fig, ax = plt.subplots(figsize=(10, 5))\n",
    "sns.histplot(y_log, color='green') # plot a seaborn histogram with the log price\n",
    "plt.xlabel('log(price)')\n",
    "plt.title('Log Transformed Data')"
   ]
  },
  {
   "cell_type": "markdown",
   "metadata": {},
   "source": [
    "At an initial glance, this graph looks decently normally distributed. The next graph shows what the raw distribution would look like, and we can clearly see the data is right-skewed."
   ]
  },
  {
   "cell_type": "code",
   "execution_count": 32,
   "metadata": {},
   "outputs": [
    {
     "data": {
      "image/png": "[encoded data removed]",
      "text/plain": [
       "<Figure size 720x360 with 1 Axes>"
      ]
     },
     "metadata": {
      "needs_background": "light"
     },
     "output_type": "display_data"
    }
   ],
   "source": [
    "fig, ax = plt.subplots(figsize=(10, 5))\n",
    "sns.histplot(data2['price'], color='purple') # plot a seaborn histogram with the original price values\n",
    "plt.title('Original Data')\n",
    "plt.gcf().axes[0].xaxis.get_major_formatter().set_scientific(False)"
   ]
  },
  {
   "cell_type": "markdown",
   "metadata": {},
   "source": [
    "The last few cells that follow recreate the dataframe and pass it with the transformed target into statsmodels to create a summary output."
   ]
  },
  {
   "cell_type": "code",
   "execution_count": 33,
   "metadata": {},
   "outputs": [
    {
     "name": "stdout",
     "output_type": "stream",
     "text": [
      "                            OLS Regression Results                            \n",
      "==============================================================================\n",
      "Dep. Variable:                  price   R-squared:                       0.542\n",
      "Model:                            OLS   Adj. R-squared:                  0.541\n",
      "Method:                 Least Squares   F-statistic:                     2368.\n",
      "Date:                Sat, 18 Mar 2023   Prob (F-statistic):               0.00\n",
      "Time:                        00:10:36   Log-Likelihood:                -7489.0\n",
      "No. Observations:               16037   AIC:                         1.500e+04\n",
      "Df Residuals:                   16028   BIC:                         1.507e+04\n",
      "Df Model:                           8                                         \n",
      "Covariance Type:            nonrobust                                         \n",
      "==================================================================================\n",
      "                     coef    std err          t      P>|t|      [0.025      0.975]\n",
      "----------------------------------------------------------------------------------\n",
      "const             11.5533      0.032    358.414      0.000      11.490      11.616\n",
      "sqft_living        0.0002   5.27e-06     33.650      0.000       0.000       0.000\n",
      "bathrooms          0.0473      0.006      7.917      0.000       0.036       0.059\n",
      "grade              0.2145      0.004     53.912      0.000       0.207       0.222\n",
      "waterfront_YES     0.2207      0.031      7.041      0.000       0.159       0.282\n",
      "view_EXCELLENT     0.1707      0.032      5.403      0.000       0.109       0.233\n",
      "view_FAIR          0.1227      0.046      2.690      0.007       0.033       0.212\n",
      "view_GOOD         -0.0084      0.024     -0.354      0.723      -0.055       0.038\n",
      "view_NONE         -0.0513      0.014     -3.583      0.000      -0.079      -0.023\n",
      "==============================================================================\n",
      "Omnibus:                     4429.124   Durbin-Watson:                   1.936\n",
      "Prob(Omnibus):                  0.000   Jarque-Bera (JB):            62751.203\n",
      "Skew:                          -0.935   Prob(JB):                         0.00\n",
      "Kurtosis:                      12.509   Cond. No.                     4.01e+04\n",
      "==============================================================================\n",
      "\n",
      "Notes:\n",
      "[1] Standard Errors assume that the covariance matrix of the errors is correctly specified.\n",
      "[2] The condition number is large, 4.01e+04. This might indicate that there are\n",
      "strong multicollinearity or other numerical problems.\n"
     ]
    },
    {
     "name": "stderr",
     "output_type": "stream",
     "text": [
      "/var/folders/79/5nwh277d2kz9wy43lcqjbbkr0000gn/T/ipykernel_2927/3414476695.py:2: SettingWithCopyWarning: \n",
      "A value is trying to be set on a copy of a slice from a DataFrame.\n",
      "Try using .loc[row_indexer,col_indexer] = value instead\n",
      "\n",
      "See the caveats in the documentation: https://pandas.pydata.org/pandas-docs/stable/user_guide/indexing.html#returning-a-view-versus-a-copy\n",
      "  X_t['waterfront']=data2['waterfront']\n",
      "/var/folders/79/5nwh277d2kz9wy43lcqjbbkr0000gn/T/ipykernel_2927/3414476695.py:3: SettingWithCopyWarning: \n",
      "A value is trying to be set on a copy of a slice from a DataFrame.\n",
      "Try using .loc[row_indexer,col_indexer] = value instead\n",
      "\n",
      "See the caveats in the documentation: https://pandas.pydata.org/pandas-docs/stable/user_guide/indexing.html#returning-a-view-versus-a-copy\n",
      "  X_t['view']=data2['view']\n"
     ]
    }
   ],
   "source": [
    "X_t=data2[['sqft_living', 'bathrooms', 'grade']]\n",
    "X_t['waterfront']=data2['waterfront']\n",
    "X_t['view']=data2['view']\n",
    "X_t=pd.get_dummies(X_t, columns=['waterfront', 'view'])\n",
    "# Drop the columns below to make them the reference category\n",
    "X_t.drop(columns=['waterfront_NO', 'view_AVERAGE'], inplace=True)\n",
    "\n",
    "# Pass the dataframe into statsmodels and print results\n",
    "X_t_model=sm.OLS(y_log, sm.add_constant(X_t))\n",
    "X_t_results=X_t_model.fit()\n",
    "print(X_t_results.summary())"
   ]
  },
  {
   "cell_type": "markdown",
   "metadata": {},
   "source": [
    "Though in terms of R-squared value our transformed model performs similarly to the final regression model, the Jarque-Bera (JB) statistic is much lower than any of the JB values of the regressions we previously created. The closer the JB value is to zero, the more likely the data is normally distributed with mean and variance. Hence, this points to a slightly more linear relationship than what was previously modeled."
   ]
  }
 ],
 "metadata": {
  "kernelspec": {
   "display_name": "Python 3 (ipykernel)",
   "language": "python",
   "name": "python3"
  },
  "language_info": {
   "codemirror_mode": {
    "name": "ipython",
    "version": 3
   },
   "file_extension": ".py",
   "mimetype": "text/x-python",
   "name": "python",
   "nbconvert_exporter": "python",
   "pygments_lexer": "ipython3",
   "version": "3.9.12"
  }
 },
 "nbformat": 4,
 "nbformat_minor": 2
}
